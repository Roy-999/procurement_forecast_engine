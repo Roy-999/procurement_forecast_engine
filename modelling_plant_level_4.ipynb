{
 "cells": [
  {
   "cell_type": "markdown",
   "id": "500d7388-3f61-4c4e-89d6-881cd8717d8d",
   "metadata": {},
   "source": [
    "### OCI Data Science - Useful Tips\n",
    "<details>\n",
    "<summary><font size=\"2\">Check for Public Internet Access</font></summary>\n",
    "\n",
    "```python\n",
    "import requests\n",
    "response = requests.get(\"https://oracle.com\")\n",
    "assert response.status_code==200, \"Internet connection failed\"\n",
    "```\n",
    "</details>\n",
    "<details>\n",
    "<summary><font size=\"2\">Helpful Documentation </font></summary>\n",
    "<ul><li><a href=\"https://docs.cloud.oracle.com/en-us/iaas/data-science/using/data-science.htm\">Data Science Service Documentation</a></li>\n",
    "<li><a href=\"https://docs.cloud.oracle.com/iaas/tools/ads-sdk/latest/index.html\">ADS documentation</a></li>\n",
    "</ul>\n",
    "</details>\n",
    "<details>\n",
    "<summary><font size=\"2\">Typical Cell Imports and Settings for ADS</font></summary>\n",
    "\n",
    "```python\n",
    "%load_ext autoreload\n",
    "%autoreload 2\n",
    "%matplotlib inline\n",
    "\n",
    "import warnings\n",
    "warnings.filterwarnings('ignore')\n",
    "\n",
    "import logging\n",
    "logging.basicConfig(format='%(levelname)s:%(message)s', level=logging.ERROR)\n",
    "\n",
    "import ads\n",
    "from ads.dataset.factory import DatasetFactory\n",
    "from ads.automl.provider import OracleAutoMLProvider\n",
    "from ads.automl.driver import AutoML\n",
    "from ads.evaluations.evaluator import ADSEvaluator\n",
    "from ads.common.data import ADSData\n",
    "from ads.explanations.explainer import ADSExplainer\n",
    "from ads.explanations.mlx_global_explainer import MLXGlobalExplainer\n",
    "from ads.explanations.mlx_local_explainer import MLXLocalExplainer\n",
    "from ads.catalog.model import ModelCatalog\n",
    "from ads.common.model_artifact import ModelArtifact\n",
    "```\n",
    "</details>\n",
    "<details>\n",
    "<summary><font size=\"2\">Useful Environment Variables</font></summary>\n",
    "\n",
    "```python\n",
    "import os\n",
    "print(os.environ[\"NB_SESSION_COMPARTMENT_OCID\"])\n",
    "print(os.environ[\"PROJECT_OCID\"])\n",
    "print(os.environ[\"USER_OCID\"])\n",
    "print(os.environ[\"TENANCY_OCID\"])\n",
    "print(os.environ[\"NB_REGION\"])\n",
    "```\n",
    "</details>"
   ]
  },
  {
   "cell_type": "markdown",
   "id": "9092af4f-2cd0-447b-a2b5-d2cf78842429",
   "metadata": {},
   "source": [
    "Installing Required Packages"
   ]
  },
  {
   "cell_type": "code",
   "execution_count": 1,
   "id": "8b449286-85ca-4942-a59b-b4e645652309",
   "metadata": {
    "tags": []
   },
   "outputs": [
    {
     "name": "stdout",
     "output_type": "stream",
     "text": [
      "Requirement already satisfied: seaborn in /opt/conda/lib/python3.11/site-packages (0.13.2)\n",
      "Requirement already satisfied: numpy!=1.24.0,>=1.20 in /opt/conda/lib/python3.11/site-packages (from seaborn) (1.26.4)\n",
      "Requirement already satisfied: pandas>=1.2 in /opt/conda/lib/python3.11/site-packages (from seaborn) (2.2.3)\n",
      "Requirement already satisfied: matplotlib!=3.6.1,>=3.4 in /opt/conda/lib/python3.11/site-packages (from seaborn) (3.8.4)\n",
      "Requirement already satisfied: contourpy>=1.0.1 in /opt/conda/lib/python3.11/site-packages (from matplotlib!=3.6.1,>=3.4->seaborn) (1.3.1)\n",
      "Requirement already satisfied: cycler>=0.10 in /opt/conda/lib/python3.11/site-packages (from matplotlib!=3.6.1,>=3.4->seaborn) (0.12.1)\n",
      "Requirement already satisfied: fonttools>=4.22.0 in /opt/conda/lib/python3.11/site-packages (from matplotlib!=3.6.1,>=3.4->seaborn) (4.56.0)\n",
      "Requirement already satisfied: kiwisolver>=1.3.1 in /opt/conda/lib/python3.11/site-packages (from matplotlib!=3.6.1,>=3.4->seaborn) (1.4.8)\n",
      "Requirement already satisfied: packaging>=20.0 in /opt/conda/lib/python3.11/site-packages (from matplotlib!=3.6.1,>=3.4->seaborn) (24.0)\n",
      "Requirement already satisfied: pillow>=8 in /opt/conda/lib/python3.11/site-packages (from matplotlib!=3.6.1,>=3.4->seaborn) (10.3.0)\n",
      "Requirement already satisfied: pyparsing>=2.3.1 in /opt/conda/lib/python3.11/site-packages (from matplotlib!=3.6.1,>=3.4->seaborn) (3.2.3)\n",
      "Requirement already satisfied: python-dateutil>=2.7 in /opt/conda/lib/python3.11/site-packages (from matplotlib!=3.6.1,>=3.4->seaborn) (2.9.0.post0)\n",
      "Requirement already satisfied: pytz>=2020.1 in /opt/conda/lib/python3.11/site-packages (from pandas>=1.2->seaborn) (2025.1)\n",
      "Requirement already satisfied: tzdata>=2022.7 in /opt/conda/lib/python3.11/site-packages (from pandas>=1.2->seaborn) (2025.2)\n",
      "Requirement already satisfied: six>=1.5 in /opt/conda/lib/python3.11/site-packages (from python-dateutil>=2.7->matplotlib!=3.6.1,>=3.4->seaborn) (1.17.0)\n",
      "Note: you may need to restart the kernel to use updated packages.\n"
     ]
    }
   ],
   "source": [
    "pip install seaborn"
   ]
  },
  {
   "cell_type": "code",
   "execution_count": 2,
   "id": "ca14f71b-c148-46f6-b4cb-f60f205465ca",
   "metadata": {
    "tags": []
   },
   "outputs": [
    {
     "name": "stdout",
     "output_type": "stream",
     "text": [
      "Requirement already satisfied: statsmodels in /opt/conda/lib/python3.11/site-packages (0.14.4)\n",
      "Requirement already satisfied: numpy<3,>=1.22.3 in /opt/conda/lib/python3.11/site-packages (from statsmodels) (1.26.4)\n",
      "Requirement already satisfied: scipy!=1.9.2,>=1.8 in /opt/conda/lib/python3.11/site-packages (from statsmodels) (1.15.2)\n",
      "Requirement already satisfied: pandas!=2.1.0,>=1.4 in /opt/conda/lib/python3.11/site-packages (from statsmodels) (2.2.3)\n",
      "Requirement already satisfied: patsy>=0.5.6 in /opt/conda/lib/python3.11/site-packages (from statsmodels) (1.0.1)\n",
      "Requirement already satisfied: packaging>=21.3 in /opt/conda/lib/python3.11/site-packages (from statsmodels) (24.0)\n",
      "Requirement already satisfied: python-dateutil>=2.8.2 in /opt/conda/lib/python3.11/site-packages (from pandas!=2.1.0,>=1.4->statsmodels) (2.9.0.post0)\n",
      "Requirement already satisfied: pytz>=2020.1 in /opt/conda/lib/python3.11/site-packages (from pandas!=2.1.0,>=1.4->statsmodels) (2025.1)\n",
      "Requirement already satisfied: tzdata>=2022.7 in /opt/conda/lib/python3.11/site-packages (from pandas!=2.1.0,>=1.4->statsmodels) (2025.2)\n",
      "Requirement already satisfied: six>=1.5 in /opt/conda/lib/python3.11/site-packages (from python-dateutil>=2.8.2->pandas!=2.1.0,>=1.4->statsmodels) (1.17.0)\n",
      "Note: you may need to restart the kernel to use updated packages.\n"
     ]
    }
   ],
   "source": [
    "pip install statsmodels"
   ]
  },
  {
   "cell_type": "code",
   "execution_count": 3,
   "id": "a9195725-cf10-4863-b30b-ce8aa6afc2c8",
   "metadata": {
    "tags": []
   },
   "outputs": [],
   "source": [
    "import pandas as pd\n",
    "# import cudf\n",
    "# import openpyxl\n",
    "import numpy as np\n",
    "import matplotlib.pyplot as plt\n",
    "from statsmodels.tsa.stattools import adfuller\n",
    "from statsmodels.tsa.stattools import kpss\n",
    "from statsmodels.tsa.statespace.sarimax import SARIMAX\n",
    "from sklearn.metrics import mean_absolute_error, mean_squared_error, r2_score\n",
    "from sklearn.preprocessing import OneHotEncoder\n",
    "import statsmodels.api as sm\n",
    "from statsmodels.tsa.seasonal import seasonal_decompose\n",
    "from statsmodels.graphics.tsaplots import plot_acf, plot_pacf\n",
    "import os\n",
    "import seaborn as sns\n",
    "import warnings\n",
    "warnings.filterwarnings(\"ignore\")"
   ]
  },
  {
   "cell_type": "code",
   "execution_count": 4,
   "id": "1ba95ff8-ee12-4ebf-8baf-756b34e77c65",
   "metadata": {
    "tags": []
   },
   "outputs": [],
   "source": [
    "pd.set_option('display.max_columns', None)\n",
    "pd.set_option('display.max_rows', None)"
   ]
  },
  {
   "cell_type": "markdown",
   "id": "7aa7fa36-245e-4242-8ace-11eb657c31a6",
   "metadata": {},
   "source": [
    "# Data Import"
   ]
  },
  {
   "cell_type": "code",
   "execution_count": 5,
   "id": "e18f282d-b558-47c5-8eab-cf8816b886d7",
   "metadata": {
    "tags": []
   },
   "outputs": [
    {
     "name": "stdout",
     "output_type": "stream",
     "text": [
      "Found 37 CSV files in ascp_cleaned_data/\n",
      "Combined DataFrame Shape: (27729179, 9)\n",
      "Unique ORG values: 36\n",
      "Unique ITEM_CODE values: 69044\n"
     ]
    }
   ],
   "source": [
    "import oci\n",
    "import pandas as pd\n",
    "import io\n",
    "import concurrent.futures\n",
    "\n",
    "# Set up OCI config, the values are generated upon generating API key\n",
    "config = {\n",
    "    \"user\": \"ocid1.user.oc1..aaaaaaaabepmp6cnh7quc2kq2lp65bg5zoaaafb3i6ysliw4xtsolf5245pq\", \n",
    "    \"key_file\": \"secret_key/swapnil.roy@infolob.com_2025-02-28T11_09_10.611Z.pem\",\n",
    "    \"tenancy\": \"ocid1.tenancy.oc1..aaaaaaaamvz6uy5l5mdihzdqex43sp3kwdg45hzhm5djvfiqf2aq2fusbb4q\", \n",
    "    \"fingerprint\": \"54:d0:cd:22:ea:f1:2f:ca:01:62:de:58:57:0a:7d:76\",\n",
    "    \"region\": \"ap-mumbai-1\"\n",
    "}\n",
    "\n",
    "# Create Object Storage client\n",
    "object_storage = oci.object_storage.ObjectStorageClient(config)\n",
    "\n",
    "# Bucket and namespace details\n",
    "namespace = \"bmglwagxa8my\"  \n",
    "bucket_name = \"ppepoc_landing\"\n",
    "folder_prefix = \"ascp_cleaned_data/\"  # Folder inside the bucket\n",
    "\n",
    "# Get list of CSV files in the bucket\n",
    "file_list = [\n",
    "    obj.name for obj in object_storage.list_objects(namespace, bucket_name, prefix=folder_prefix).data.objects\n",
    "    if obj.name.endswith(\".csv\")\n",
    "]\n",
    "\n",
    "print(f\"Found {len(file_list)} CSV files in {folder_prefix}\")\n",
    "\n",
    "# Function to fetch and read CSV as a DataFrame\n",
    "def get_csv_as_dataframe(object_name):\n",
    "    try:\n",
    "        obj = object_storage.get_object(namespace, bucket_name, object_name)\n",
    "        return pd.read_csv(io.BytesIO(obj.data.content))\n",
    "    except Exception as e:\n",
    "        print(f\"Error loading {object_name}: {e}\")\n",
    "        return None\n",
    "\n",
    "# Read CSVs in parallel using ThreadPoolExecutor\n",
    "df_list = []\n",
    "with concurrent.futures.ThreadPoolExecutor() as executor:\n",
    "    results = list(executor.map(get_csv_as_dataframe, file_list))\n",
    "\n",
    "# Remove None values (failed loads)\n",
    "df_list = [df for df in results if df is not None]\n",
    "\n",
    "# Combine all DataFrames\n",
    "if df_list:\n",
    "    data = pd.concat(df_list, ignore_index=True)\n",
    "    print(\"Combined DataFrame Shape:\", data.shape)\n",
    "\n",
    "    # Basic insights\n",
    "    print(\"Unique ORG values:\", data[\"ORG\"].nunique())\n",
    "    print(\"Unique ITEM_CODE values:\", data[\"ITEM_CODE\"].nunique())\n",
    "else:\n",
    "    print(\"No valid CSV files found!\")\n"
   ]
  },
  {
   "cell_type": "code",
   "execution_count": 6,
   "id": "323a5775-0810-431d-9f1b-d4e6211775c4",
   "metadata": {
    "tags": []
   },
   "outputs": [],
   "source": [
    "# Dropping duplicate records\n",
    "# data = data.drop_duplicates()\n",
    "data.drop_duplicates(inplace=True)"
   ]
  },
  {
   "cell_type": "code",
   "execution_count": 7,
   "id": "fef27138-ec32-4225-8f8f-cc1fed965a91",
   "metadata": {
    "tags": []
   },
   "outputs": [
    {
     "name": "stdout",
     "output_type": "stream",
     "text": [
      "(27595574, 9)\n"
     ]
    }
   ],
   "source": [
    "print(data.shape)"
   ]
  },
  {
   "cell_type": "raw",
   "id": "2e8d1e8c-c346-42b2-b7ec-04d3fdb053bb",
   "metadata": {
    "tags": []
   },
   "source": [
    "data = pd.read_csv(\n",
    "    r\"metadata/data_full_37.csv\", \n",
    "    dtype=str,      # Treat all columns as strings to avoid automatic type conversion\n",
    "    keep_default_na=False,  # Prevent pandas from treating \"NA\", \"null\", etc., as NaN\n",
    "    na_filter=False,  # Completely disable NaN detection\n",
    "    low_memory=False  # Load everything at once, avoiding chunk-based type guessing\n",
    ")"
   ]
  },
  {
   "cell_type": "raw",
   "id": "a2b5073d-8562-4ccd-8435-9ce33e364b41",
   "metadata": {
    "tags": []
   },
   "source": [
    "data_full = data.copy(deep=True)"
   ]
  },
  {
   "cell_type": "raw",
   "id": "be99d1f8-9215-4643-b428-6294e5c190da",
   "metadata": {
    "tags": []
   },
   "source": [
    "data = data_full.copy(deep=True)"
   ]
  },
  {
   "cell_type": "raw",
   "id": "5dc407e2-f556-49f4-bf23-d772c68f4e64",
   "metadata": {
    "tags": []
   },
   "source": [
    "print(data['ORG'].unique(), data['ORG'].nunique())"
   ]
  },
  {
   "cell_type": "markdown",
   "id": "b270b060-d1f0-4f6d-9a1e-1711a8b4e880",
   "metadata": {
    "tags": []
   },
   "source": [
    "### SAMPLE: Data Sample Export (item_code == '02150513')"
   ]
  },
  {
   "cell_type": "raw",
   "id": "51fa15cd-cd0d-4373-b89f-e522efde5ba1",
   "metadata": {
    "tags": []
   },
   "source": [
    "data['RECOMMENDED_TOTAL_QTY'] = data['RECOMMENDED_TOTAL_QTY'].astype('float')"
   ]
  },
  {
   "cell_type": "raw",
   "id": "d27f944a-71f9-42ad-b58c-c08b92e6d84a",
   "metadata": {
    "tags": []
   },
   "source": [
    "data_temp = data[data['RECOMMENDED_TOTAL_QTY']==0]"
   ]
  },
  {
   "cell_type": "raw",
   "id": "58c4ecf0-a804-4ea8-81d5-42b0cb5e3f91",
   "metadata": {
    "tags": []
   },
   "source": [
    "data_temp_gb = data_temp.groupby('ITEM_CODE').size().reset_index(name=\"count\")\n",
    "data_temp_gb.sort_values(by=['count'], inplace=True, ascending=False)\n",
    "data_temp_gb.head()"
   ]
  },
  {
   "cell_type": "raw",
   "id": "cb2f0f86-6249-4d90-b60d-198bc4c37ea9",
   "metadata": {
    "tags": []
   },
   "source": [
    "data_sample = data[data['ITEM_CODE']=='02150513']"
   ]
  },
  {
   "cell_type": "raw",
   "id": "05576a65-232b-4781-b7ba-e034ae677673",
   "metadata": {
    "tags": []
   },
   "source": [
    "data_sample[data_sample['RECOMMENDED_TOTAL_QTY']>0].head()"
   ]
  },
  {
   "cell_type": "raw",
   "id": "12e7b4b1-6a34-4018-9779-5093d1541921",
   "metadata": {
    "tags": []
   },
   "source": [
    "data_sample['ORG'].unique()"
   ]
  },
  {
   "cell_type": "raw",
   "id": "93e414a6-4cde-42e7-bda0-2812577a7d77",
   "metadata": {
    "tags": []
   },
   "source": [
    "data_sample.to_csv(r'metadata/data_sample_02150513.csv', index=False)\n",
    "print(\"Sample Exported\")"
   ]
  },
  {
   "cell_type": "markdown",
   "id": "815c23eb-9248-44ca-a1f6-6ac7389cbc83",
   "metadata": {},
   "source": [
    "# Data Manipulation"
   ]
  },
  {
   "cell_type": "code",
   "execution_count": 8,
   "id": "0dcbda67-c312-49e1-8b33-80b20c24d2c6",
   "metadata": {},
   "outputs": [],
   "source": [
    "# Splitting CATEGORY_NAME into four new columns\n",
    "split_cols = data['CATEGORY_NAME'].str.split('.', expand=True)\n",
    "split_cols.columns = ['CN_1', 'CN_2', 'CN_3', 'CN_4']\n",
    "\n",
    "# Efficiently concatenate the new columns after CATEGORY_NAME\n",
    "col_position = data.columns.get_loc('CATEGORY_NAME') + 1  # Position after CATEGORY_NAME\n",
    "data = pd.concat([data.iloc[:, :col_position], split_cols, data.iloc[:, col_position:]], axis=1)"
   ]
  },
  {
   "cell_type": "markdown",
   "id": "9bc43d19-043f-47ef-b05e-12bbd96db308",
   "metadata": {
    "tags": []
   },
   "source": [
    "## Converting all column names to lower case"
   ]
  },
  {
   "cell_type": "code",
   "execution_count": 9,
   "id": "07d1f1af-f7aa-4825-aa56-adf70ae0bc86",
   "metadata": {},
   "outputs": [],
   "source": [
    "data.columns = data.columns.str.lower()"
   ]
  },
  {
   "cell_type": "markdown",
   "id": "96300134-fd0b-4e51-a0b1-15bc91901428",
   "metadata": {},
   "source": [
    "## Converting columns to appropriate data type"
   ]
  },
  {
   "cell_type": "code",
   "execution_count": 10,
   "id": "e1ab5f94-88bb-4a5d-8e1b-7364d6c062ca",
   "metadata": {
    "tags": []
   },
   "outputs": [],
   "source": [
    "data['collection_date'] = pd.to_datetime(data['collection_date'])\n",
    "data = data.astype({'recommended_total_qty':'float'})"
   ]
  },
  {
   "cell_type": "code",
   "execution_count": 11,
   "id": "85590f76-0ce5-4acd-8068-f5181f3622f5",
   "metadata": {
    "tags": []
   },
   "outputs": [],
   "source": [
    "data['cn_4'] = data['cn_4'].fillna('NA')"
   ]
  },
  {
   "cell_type": "markdown",
   "id": "49de6880-91ee-4c9b-9f1c-1945d89a29d3",
   "metadata": {
    "tags": []
   },
   "source": [
    "## Maintaining an instance of full raw data"
   ]
  },
  {
   "cell_type": "code",
   "execution_count": 12,
   "id": "d1e64996-2fc7-4109-9508-9befcc2719bd",
   "metadata": {
    "tags": []
   },
   "outputs": [],
   "source": [
    "data_full = data.copy(deep=True)"
   ]
  },
  {
   "cell_type": "raw",
   "id": "03fa7d04-441c-4bc2-bd5f-0ac7454e2b60",
   "metadata": {},
   "source": [
    "data = data_full.copy(deep=True)"
   ]
  },
  {
   "cell_type": "code",
   "execution_count": 13,
   "id": "593e2dca-a738-4bf7-954e-f94d94e57ca5",
   "metadata": {
    "tags": []
   },
   "outputs": [
    {
     "data": {
      "text/plain": [
       "69044"
      ]
     },
     "execution_count": 13,
     "metadata": {},
     "output_type": "execute_result"
    }
   ],
   "source": [
    "data_full['item_code'].nunique()"
   ]
  },
  {
   "cell_type": "code",
   "execution_count": 14,
   "id": "4746dc8c-7857-4ec9-8f64-479cdbac05f9",
   "metadata": {
    "tags": []
   },
   "outputs": [
    {
     "data": {
      "text/plain": [
       "0.10296114876972662"
      ]
     },
     "execution_count": 14,
     "metadata": {},
     "output_type": "execute_result"
    }
   ],
   "source": [
    "data_full[data_full['recommended_total_qty']>0].shape[0]/data_full.shape[0]"
   ]
  },
  {
   "cell_type": "code",
   "execution_count": 15,
   "id": "7c1c5321-3ca2-4d07-a02f-e882c4a85663",
   "metadata": {
    "tags": []
   },
   "outputs": [
    {
     "data": {
      "text/plain": [
       "array(['IMP', 'INDG', 'CSI'], dtype=object)"
      ]
     },
     "execution_count": 15,
     "metadata": {},
     "output_type": "execute_result"
    }
   ],
   "source": [
    "data_full['cn_3'].unique()"
   ]
  },
  {
   "cell_type": "markdown",
   "id": "ef8ca733-3c08-4243-8b3e-ff7b8cd12b8d",
   "metadata": {},
   "source": [
    "# Data Filtration"
   ]
  },
  {
   "cell_type": "markdown",
   "id": "680eb857-17f3-4c9c-b644-40871d47ae5f",
   "metadata": {
    "tags": []
   },
   "source": [
    "## Removing all zero recommended_total_qty for the ease of analyses"
   ]
  },
  {
   "cell_type": "code",
   "execution_count": 16,
   "id": "0bb44cbf-1701-4731-b07b-5fa59fedccd0",
   "metadata": {
    "tags": []
   },
   "outputs": [],
   "source": [
    "data = data[data['recommended_total_qty'] > 0]"
   ]
  },
  {
   "cell_type": "markdown",
   "id": "76a18108-d9b2-4b44-93a3-fbe66b0c0f47",
   "metadata": {
    "tags": []
   },
   "source": [
    "### SAMPLE: min & max collection_date for each Plant"
   ]
  },
  {
   "cell_type": "raw",
   "id": "4b4d9fdc-2e00-4111-a5cb-ae3b6897c3a1",
   "metadata": {
    "tags": []
   },
   "source": [
    "def info_plant_date(df):    \n",
    "    date_info = {\"org\":[], \"min_cd\":[], \"max_cd\":[]}\n",
    "    df = df.copy()\n",
    "    \n",
    "    for org in df[\"org\"].unique():\n",
    "        df_org = df[df[\"org\"]==org]\n",
    "        min_cd = df_org[\"collection_date\"].min()\n",
    "        max_cd = df_org[\"collection_date\"].max()\n",
    "        \n",
    "        date_info[\"org\"].append(org)\n",
    "        date_info[\"min_cd\"].append(min_cd)\n",
    "        date_info[\"max_cd\"].append(max_cd)\n",
    "    \n",
    "    return pd.DataFrame(date_info)"
   ]
  },
  {
   "cell_type": "raw",
   "id": "3b28907b-9ac5-4dad-9faa-26091d9634cf",
   "metadata": {
    "tags": []
   },
   "source": [
    "info_full = info_plant_date(data_full)\n",
    "info_full.to_csv(r\"metadata/sample/info_full.csv\", index=False)\n",
    "print(\"info_full Exported\")\n",
    "info_full"
   ]
  },
  {
   "cell_type": "raw",
   "id": "12927ae0-c3c1-448f-b3d4-2d53cbd5b560",
   "metadata": {
    "tags": []
   },
   "source": [
    "info_nz = info_plant_date(data)\n",
    "info_nz.to_csv(r\"metadata/sample/info_nz.csv\", index=False)\n",
    "print(\"info_nz Exported\")\n",
    "info_nz"
   ]
  },
  {
   "cell_type": "markdown",
   "id": "948ecd44-8e54-476d-b1d3-e3dd37399a55",
   "metadata": {
    "tags": []
   },
   "source": [
    "## CONDITION 1(ACTIVE ITEMS): Items ordered (non-zero) atleast once in past 3 months (at plant level considering global \"max_date\")"
   ]
  },
  {
   "cell_type": "markdown",
   "id": "acca8bff-9c24-42b3-8c1a-b1327676f867",
   "metadata": {
    "tags": []
   },
   "source": [
    "### Calculating global max_date"
   ]
  },
  {
   "cell_type": "code",
   "execution_count": 17,
   "id": "126791ac-054b-4479-847a-fec76987258d",
   "metadata": {
    "tags": []
   },
   "outputs": [],
   "source": [
    "max_date = data['collection_date'].max()\n",
    "active_item_lookback = max_date - pd.DateOffset(months = 3)"
   ]
  },
  {
   "cell_type": "code",
   "execution_count": 18,
   "id": "e672f88a-8180-4002-bcf5-91de1939eb93",
   "metadata": {
    "tags": []
   },
   "outputs": [
    {
     "name": "stdout",
     "output_type": "stream",
     "text": [
      "2025-03-03 23:05:23 2024-12-03 23:05:23\n"
     ]
    }
   ],
   "source": [
    "print(max_date, active_item_lookback)"
   ]
  },
  {
   "cell_type": "code",
   "execution_count": 19,
   "id": "00c1b60a-96d5-4928-ae3c-16d86af71a91",
   "metadata": {
    "tags": []
   },
   "outputs": [],
   "source": [
    "def active_item_filter(df, lookback):\n",
    "    df_list = []\n",
    "    df = df.copy()\n",
    "    lookback_dt = max_date - pd.DateOffset(months = lookback)\n",
    "    for org in data['org'].unique():\n",
    "        df_org = df[df['org']==org]\n",
    "        filtered_items = df_org[(df_org['collection_date']>=lookback_dt) & (df_org['collection_date']<=max_date)]['item_code'].unique()\n",
    "        df_org = df_org[df_org['item_code'].isin(filtered_items)]\n",
    "        if df_org.shape[0]>0:\n",
    "            df_list.append(df_org)\n",
    "            print(f'org: {df_org[\"org\"].unique()} :: Items: {df_org[\"item_code\"].nunique()} :: Max order date: {df_org[\"collection_date\"].max()}')\n",
    "        else:\n",
    "            continue\n",
    "    print(f'Total Plants: {len(df_list)}')\n",
    "    return df_list"
   ]
  },
  {
   "cell_type": "code",
   "execution_count": 20,
   "id": "753bec29-7a74-4bec-808e-9f3cab56e8ec",
   "metadata": {
    "tags": []
   },
   "outputs": [
    {
     "name": "stdout",
     "output_type": "stream",
     "text": [
      "org: ['P01'] :: Items: 474 :: Max order date: 2025-02-02 14:02:57\n",
      "org: ['P02'] :: Items: 3145 :: Max order date: 2025-02-22 00:50:19\n",
      "org: ['P03'] :: Items: 2369 :: Max order date: 2025-02-22 00:50:19\n",
      "org: ['P04'] :: Items: 665 :: Max order date: 2025-02-02 14:02:57\n",
      "org: ['P07'] :: Items: 428 :: Max order date: 2025-02-02 14:02:57\n",
      "org: ['P08'] :: Items: 545 :: Max order date: 2025-02-02 14:02:57\n",
      "org: ['P09'] :: Items: 178 :: Max order date: 2025-02-02 14:02:57\n",
      "org: ['P10'] :: Items: 519 :: Max order date: 2025-03-03 23:05:23\n",
      "org: ['P11'] :: Items: 670 :: Max order date: 2025-02-08 03:11:39\n",
      "org: ['P12'] :: Items: 526 :: Max order date: 2025-02-02 14:02:57\n",
      "org: ['P14'] :: Items: 764 :: Max order date: 2025-02-08 03:11:39\n",
      "org: ['P15'] :: Items: 915 :: Max order date: 2025-02-08 03:11:39\n",
      "org: ['P16'] :: Items: 1474 :: Max order date: 2025-02-08 03:11:39\n",
      "org: ['P18'] :: Items: 5 :: Max order date: 2024-12-22 22:20:10\n",
      "org: ['P20'] :: Items: 313 :: Max order date: 2025-02-08 03:11:39\n",
      "org: ['P22'] :: Items: 424 :: Max order date: 2025-02-08 03:11:39\n",
      "org: ['P23'] :: Items: 36 :: Max order date: 2025-02-15 04:20:28\n",
      "org: ['P26'] :: Items: 99 :: Max order date: 2025-01-11 02:53:24\n",
      "org: ['P31'] :: Items: 903 :: Max order date: 2025-03-03 23:05:23\n",
      "org: ['P32'] :: Items: 1373 :: Max order date: 2025-02-15 04:20:28\n",
      "org: ['P34'] :: Items: 1226 :: Max order date: 2025-02-15 04:20:28\n",
      "org: ['P36'] :: Items: 119 :: Max order date: 2025-03-03 23:05:23\n",
      "org: ['P40'] :: Items: 2682 :: Max order date: 2025-03-03 23:05:23\n",
      "org: ['P41'] :: Items: 1362 :: Max order date: 2025-03-03 23:05:23\n",
      "org: ['P42'] :: Items: 648 :: Max order date: 2025-03-03 23:05:23\n",
      "Total Plants: 25\n"
     ]
    }
   ],
   "source": [
    "data_list = active_item_filter(data, 3) #(dataframe, lookback in months)"
   ]
  },
  {
   "cell_type": "markdown",
   "id": "a124c76b-9805-4c5b-a091-de79e1c466b6",
   "metadata": {
    "tags": []
   },
   "source": [
    "### Concatanating the dataframes back into a single one"
   ]
  },
  {
   "cell_type": "code",
   "execution_count": 21,
   "id": "aa339569-9f21-43ec-8491-55d2a9d6b16b",
   "metadata": {
    "tags": []
   },
   "outputs": [],
   "source": [
    "f_data = pd.concat(data_list, axis=0)"
   ]
  },
  {
   "cell_type": "markdown",
   "id": "0ee8b78e-c468-499f-ac32-e30f22be701b",
   "metadata": {
    "tags": []
   },
   "source": [
    "## CONDITION 2(ORDER FREQUENCY THRESHOLD): Items ordered (non-zero) atleast X times in past Y months (at plant level considering global \"max_date\")"
   ]
  },
  {
   "cell_type": "code",
   "execution_count": 22,
   "id": "00e6cff1-0423-4821-a6e5-21e61b84df53",
   "metadata": {
    "tags": []
   },
   "outputs": [],
   "source": [
    "def order_freq_filter(df, threshold, lookback):\n",
    "    df_list = []\n",
    "    df = df.copy()\n",
    "    lookback_dt = max_date - pd.DateOffset(months = lookback)\n",
    "    # for org in ['P01']:\n",
    "    for org in data['org'].unique():\n",
    "        df_org = df[df['org']==org]\n",
    "        \n",
    "        df_org_temp = df_org[(df_org['collection_date']>=lookback_dt) & (df_org['collection_date']<=max_date)]\n",
    "        df_org_temp_item_order_freq = df_org_temp.groupby('item_code').size().reset_index(name=\"order_frequency\")\n",
    "        filtered_items = df_org_temp_item_order_freq[df_org_temp_item_order_freq[\"order_frequency\"] >= threshold][\"item_code\"].unique()\n",
    "        \n",
    "        df_org = df_org[df_org[\"item_code\"].isin(filtered_items)]\n",
    "        \n",
    "        if df_org.shape[0]>0:\n",
    "            df_list.append(df_org)\n",
    "            print(f'org: {df_org[\"org\"].unique()} :: Items: {df_org[\"item_code\"].nunique()}')\n",
    "        else:\n",
    "            continue\n",
    "    \n",
    "    print(f'Total Plants: {len(df_list)}')\n",
    "    return df_list"
   ]
  },
  {
   "cell_type": "code",
   "execution_count": 23,
   "id": "facbd28c-d2fb-4f53-ad02-067bf889ee34",
   "metadata": {
    "tags": []
   },
   "outputs": [
    {
     "name": "stdout",
     "output_type": "stream",
     "text": [
      "org: ['P01'] :: Items: 77\n",
      "org: ['P02'] :: Items: 1274\n",
      "org: ['P03'] :: Items: 759\n",
      "org: ['P04'] :: Items: 108\n",
      "org: ['P07'] :: Items: 163\n",
      "org: ['P08'] :: Items: 104\n",
      "org: ['P09'] :: Items: 17\n",
      "org: ['P10'] :: Items: 221\n",
      "org: ['P11'] :: Items: 78\n",
      "org: ['P12'] :: Items: 98\n",
      "org: ['P14'] :: Items: 80\n",
      "org: ['P15'] :: Items: 524\n",
      "org: ['P16'] :: Items: 12\n",
      "org: ['P22'] :: Items: 22\n",
      "org: ['P23'] :: Items: 1\n",
      "org: ['P31'] :: Items: 512\n",
      "org: ['P32'] :: Items: 869\n",
      "org: ['P34'] :: Items: 751\n",
      "org: ['P36'] :: Items: 39\n",
      "org: ['P40'] :: Items: 586\n",
      "org: ['P41'] :: Items: 83\n",
      "org: ['P42'] :: Items: 103\n",
      "Total Plants: 22\n"
     ]
    }
   ],
   "source": [
    "data_list = order_freq_filter(f_data, 10, 12)"
   ]
  },
  {
   "cell_type": "markdown",
   "id": "43a3bbaa-e7e1-4fc4-9e27-e600713ed716",
   "metadata": {
    "tags": []
   },
   "source": [
    "### Collating data_list to single dataframe"
   ]
  },
  {
   "cell_type": "code",
   "execution_count": 24,
   "id": "3f94ddc6-77d0-491c-8737-c5d3c4005364",
   "metadata": {
    "tags": []
   },
   "outputs": [],
   "source": [
    "f_data2 = pd.concat(data_list, axis=0)"
   ]
  },
  {
   "cell_type": "code",
   "execution_count": 25,
   "id": "350240bc-983e-4bb9-bc13-c5a4b4196973",
   "metadata": {
    "tags": []
   },
   "outputs": [
    {
     "data": {
      "text/plain": [
       "22"
      ]
     },
     "execution_count": 25,
     "metadata": {},
     "output_type": "execute_result"
    }
   ],
   "source": [
    "f_data2['org'].nunique()"
   ]
  },
  {
   "cell_type": "code",
   "execution_count": 26,
   "id": "a285cb87-b916-4b91-8c8c-b0a1dc03b1ed",
   "metadata": {
    "tags": []
   },
   "outputs": [
    {
     "data": {
      "text/plain": [
       "(290072, 13)"
      ]
     },
     "execution_count": 26,
     "metadata": {},
     "output_type": "execute_result"
    }
   ],
   "source": [
    "f_data2.shape"
   ]
  },
  {
   "cell_type": "code",
   "execution_count": 27,
   "id": "1b5136d3-9755-41c9-a3db-072499a8150e",
   "metadata": {
    "tags": []
   },
   "outputs": [
    {
     "data": {
      "text/html": [
       "<div>\n",
       "<style scoped>\n",
       "    .dataframe tbody tr th:only-of-type {\n",
       "        vertical-align: middle;\n",
       "    }\n",
       "\n",
       "    .dataframe tbody tr th {\n",
       "        vertical-align: top;\n",
       "    }\n",
       "\n",
       "    .dataframe thead th {\n",
       "        text-align: right;\n",
       "    }\n",
       "</style>\n",
       "<table border=\"1\" class=\"dataframe\">\n",
       "  <thead>\n",
       "    <tr style=\"text-align: right;\">\n",
       "      <th></th>\n",
       "      <th>org</th>\n",
       "      <th>item_code</th>\n",
       "      <th>category_name</th>\n",
       "      <th>cn_1</th>\n",
       "      <th>cn_2</th>\n",
       "      <th>cn_3</th>\n",
       "      <th>cn_4</th>\n",
       "      <th>description</th>\n",
       "      <th>uom</th>\n",
       "      <th>run_period</th>\n",
       "      <th>collection_date</th>\n",
       "      <th>run_no</th>\n",
       "      <th>recommended_total_qty</th>\n",
       "    </tr>\n",
       "  </thead>\n",
       "  <tbody>\n",
       "    <tr>\n",
       "      <th>635</th>\n",
       "      <td>P01</td>\n",
       "      <td>14000536</td>\n",
       "      <td>RAWM.TRML.IMP.NA</td>\n",
       "      <td>RAWM</td>\n",
       "      <td>TRML</td>\n",
       "      <td>IMP</td>\n",
       "      <td>NA</td>\n",
       "      <td>218734-2L 187</td>\n",
       "      <td>Nos</td>\n",
       "      <td>21-FEB-21 - 07-NOV-21</td>\n",
       "      <td>2021-02-25 09:19:16</td>\n",
       "      <td>245</td>\n",
       "      <td>45.0</td>\n",
       "    </tr>\n",
       "    <tr>\n",
       "      <th>900</th>\n",
       "      <td>P01</td>\n",
       "      <td>19004458</td>\n",
       "      <td>RAWM.HOUS.IMP.NA</td>\n",
       "      <td>RAWM</td>\n",
       "      <td>HOUS</td>\n",
       "      <td>IMP</td>\n",
       "      <td>NA</td>\n",
       "      <td>50 WAY F W/P HOUS ASSY BLK</td>\n",
       "      <td>Nos</td>\n",
       "      <td>12-APR-20 - 27-DEC-20</td>\n",
       "      <td>2020-04-11 04:28:48</td>\n",
       "      <td>186</td>\n",
       "      <td>3511.0</td>\n",
       "    </tr>\n",
       "    <tr>\n",
       "      <th>999</th>\n",
       "      <td>P01</td>\n",
       "      <td>18002350</td>\n",
       "      <td>RAWM.TRML.IMP.NA</td>\n",
       "      <td>RAWM</td>\n",
       "      <td>TRML</td>\n",
       "      <td>IMP</td>\n",
       "      <td>NA</td>\n",
       "      <td>TRML F 250 POSI LK(CSA 0.75-2.0)</td>\n",
       "      <td>Nos</td>\n",
       "      <td>07-MAR-20 - 22-NOV-20</td>\n",
       "      <td>2020-03-06 02:30:29</td>\n",
       "      <td>182</td>\n",
       "      <td>9000.0</td>\n",
       "    </tr>\n",
       "    <tr>\n",
       "      <th>1029</th>\n",
       "      <td>P01</td>\n",
       "      <td>64400297</td>\n",
       "      <td>RAWM.CONN.IMP.NA</td>\n",
       "      <td>RAWM</td>\n",
       "      <td>CONN</td>\n",
       "      <td>IMP</td>\n",
       "      <td>NA</td>\n",
       "      <td>HX4J-3/12-G</td>\n",
       "      <td>Nos</td>\n",
       "      <td>07-MAR-20 - 22-NOV-20</td>\n",
       "      <td>2020-03-06 02:30:29</td>\n",
       "      <td>182</td>\n",
       "      <td>51.0</td>\n",
       "    </tr>\n",
       "    <tr>\n",
       "      <th>1043</th>\n",
       "      <td>P01</td>\n",
       "      <td>60984979</td>\n",
       "      <td>RAWM.HOUS.IMP.NA</td>\n",
       "      <td>RAWM</td>\n",
       "      <td>HOUS</td>\n",
       "      <td>IMP</td>\n",
       "      <td>NA</td>\n",
       "      <td>HE02 6F-NA</td>\n",
       "      <td>Nos</td>\n",
       "      <td>07-MAR-20 - 22-NOV-20</td>\n",
       "      <td>2020-03-06 02:30:29</td>\n",
       "      <td>182</td>\n",
       "      <td>1412.0</td>\n",
       "    </tr>\n",
       "  </tbody>\n",
       "</table>\n",
       "</div>"
      ],
      "text/plain": [
       "      org item_code     category_name  cn_1  cn_2 cn_3 cn_4  \\\n",
       "635   P01  14000536  RAWM.TRML.IMP.NA  RAWM  TRML  IMP   NA   \n",
       "900   P01  19004458  RAWM.HOUS.IMP.NA  RAWM  HOUS  IMP   NA   \n",
       "999   P01  18002350  RAWM.TRML.IMP.NA  RAWM  TRML  IMP   NA   \n",
       "1029  P01  64400297  RAWM.CONN.IMP.NA  RAWM  CONN  IMP   NA   \n",
       "1043  P01  60984979  RAWM.HOUS.IMP.NA  RAWM  HOUS  IMP   NA   \n",
       "\n",
       "                           description  uom             run_period  \\\n",
       "635                      218734-2L 187  Nos  21-FEB-21 - 07-NOV-21   \n",
       "900         50 WAY F W/P HOUS ASSY BLK  Nos  12-APR-20 - 27-DEC-20   \n",
       "999   TRML F 250 POSI LK(CSA 0.75-2.0)  Nos  07-MAR-20 - 22-NOV-20   \n",
       "1029                       HX4J-3/12-G  Nos  07-MAR-20 - 22-NOV-20   \n",
       "1043                        HE02 6F-NA  Nos  07-MAR-20 - 22-NOV-20   \n",
       "\n",
       "         collection_date  run_no  recommended_total_qty  \n",
       "635  2021-02-25 09:19:16     245                   45.0  \n",
       "900  2020-04-11 04:28:48     186                 3511.0  \n",
       "999  2020-03-06 02:30:29     182                 9000.0  \n",
       "1029 2020-03-06 02:30:29     182                   51.0  \n",
       "1043 2020-03-06 02:30:29     182                 1412.0  "
      ]
     },
     "execution_count": 27,
     "metadata": {},
     "output_type": "execute_result"
    }
   ],
   "source": [
    "f_data2.head()"
   ]
  },
  {
   "cell_type": "markdown",
   "id": "bc5554ac-e764-4bab-9d06-d73d51891d3e",
   "metadata": {
    "tags": []
   },
   "source": [
    "## Data Export (Exporting filtered dataframe)"
   ]
  },
  {
   "cell_type": "raw",
   "id": "1ab72513-3971-4074-a8d8-12082aa3aeee",
   "metadata": {
    "tags": []
   },
   "source": [
    "f_data2.to_csv(r'metadata/data_filtered.csv', index=False)\n",
    "print(\"Exported\")"
   ]
  },
  {
   "cell_type": "markdown",
   "id": "0552b2fe-d5a0-408c-a1b6-504af333a0cc",
   "metadata": {
    "tags": []
   },
   "source": [
    "# Data Cleaning"
   ]
  },
  {
   "cell_type": "code",
   "execution_count": 28,
   "id": "f080291b-3fb4-43dc-bc52-20151fa30d4e",
   "metadata": {
    "tags": []
   },
   "outputs": [],
   "source": [
    "def fix_anomalous_values(f_data, columns_to_fix):\n",
    "    \"\"\"\n",
    "    Identifies and fixes anomalies in specified columns by assigning \n",
    "    the latest available value based on the most recent collection_date.\n",
    "\n",
    "    Parameters:\n",
    "    f_data (pd.DataFrame): The procurement dataset.\n",
    "    columns_to_fix (list): List of column names to check and fix (e.g., ['cn_4', 'cn_2', 'description']).\n",
    "\n",
    "    Returns:\n",
    "    pd.DataFrame: The cleaned dataset with anomalies fixed.\n",
    "    \"\"\"\n",
    "    f_data = f_data.copy()  # Avoid modifying the original dataframe\n",
    "\n",
    "    # Step 1: Identify all affected item_codes for given columns\n",
    "    affected_item_codes = set()\n",
    "    \n",
    "    for col in columns_to_fix:\n",
    "        t = f_data.drop_duplicates(subset=['item_code', col])\n",
    "        t2 = t.groupby('item_code')[col].nunique().reset_index(name=f'unique_{col}_count')\n",
    "        anomalous_items = t2[t2[f'unique_{col}_count'] > 1]['item_code'].unique()\n",
    "        affected_item_codes.update(anomalous_items)\n",
    "\n",
    "    # Step 2: Get the latest values for affected item_codes\n",
    "    latest_values = f_data[f_data['item_code'].isin(affected_item_codes)] \\\n",
    "                    .sort_values(by=['item_code', 'collection_date'], ascending=[True, False]) \\\n",
    "                    .drop_duplicates(subset=['item_code'])[['item_code'] + columns_to_fix]\n",
    "\n",
    "    # Step 3: Convert latest values into mapping dictionaries\n",
    "    latest_value_dicts = {col: dict(zip(latest_values['item_code'], latest_values[col])) for col in columns_to_fix}\n",
    "\n",
    "    # Step 4: Apply fixes in the original data\n",
    "    for col in columns_to_fix:\n",
    "        f_data.loc[f_data['item_code'].isin(affected_item_codes), col] = f_data['item_code'].map(latest_value_dicts[col])\n",
    "\n",
    "    return f_data"
   ]
  },
  {
   "cell_type": "code",
   "execution_count": 29,
   "id": "9aef475c-efe8-4322-b4a1-655da9695ba2",
   "metadata": {
    "tags": []
   },
   "outputs": [],
   "source": [
    "columns_to_fix = ['cn_4', 'cn_2', 'description']\n",
    "f_data_cleaned = fix_anomalous_values(f_data2, columns_to_fix)"
   ]
  },
  {
   "cell_type": "code",
   "execution_count": 30,
   "id": "2743c795-134f-446d-afec-eae62beb525d",
   "metadata": {
    "tags": []
   },
   "outputs": [
    {
     "name": "stdout",
     "output_type": "stream",
     "text": [
      "(290072, 13) (290072, 13)\n"
     ]
    }
   ],
   "source": [
    "print(f_data2.shape, f_data_cleaned.shape)"
   ]
  },
  {
   "cell_type": "code",
   "execution_count": 31,
   "id": "4ef9136a-0825-4812-a7fd-7cd1b14cf38c",
   "metadata": {
    "tags": []
   },
   "outputs": [
    {
     "data": {
      "text/html": [
       "<div>\n",
       "<style scoped>\n",
       "    .dataframe tbody tr th:only-of-type {\n",
       "        vertical-align: middle;\n",
       "    }\n",
       "\n",
       "    .dataframe tbody tr th {\n",
       "        vertical-align: top;\n",
       "    }\n",
       "\n",
       "    .dataframe thead th {\n",
       "        text-align: right;\n",
       "    }\n",
       "</style>\n",
       "<table border=\"1\" class=\"dataframe\">\n",
       "  <thead>\n",
       "    <tr style=\"text-align: right;\">\n",
       "      <th></th>\n",
       "      <th>org</th>\n",
       "      <th>item_code</th>\n",
       "      <th>category_name</th>\n",
       "      <th>cn_1</th>\n",
       "      <th>cn_2</th>\n",
       "      <th>cn_3</th>\n",
       "      <th>cn_4</th>\n",
       "      <th>description</th>\n",
       "      <th>uom</th>\n",
       "      <th>run_period</th>\n",
       "      <th>collection_date</th>\n",
       "      <th>run_no</th>\n",
       "      <th>recommended_total_qty</th>\n",
       "    </tr>\n",
       "  </thead>\n",
       "  <tbody>\n",
       "    <tr>\n",
       "      <th>635</th>\n",
       "      <td>P01</td>\n",
       "      <td>14000536</td>\n",
       "      <td>RAWM.TRML.IMP.NA</td>\n",
       "      <td>RAWM</td>\n",
       "      <td>TRML</td>\n",
       "      <td>IMP</td>\n",
       "      <td>NA</td>\n",
       "      <td>218734-2L 187</td>\n",
       "      <td>Nos</td>\n",
       "      <td>21-FEB-21 - 07-NOV-21</td>\n",
       "      <td>2021-02-25 09:19:16</td>\n",
       "      <td>245</td>\n",
       "      <td>45.0</td>\n",
       "    </tr>\n",
       "    <tr>\n",
       "      <th>900</th>\n",
       "      <td>P01</td>\n",
       "      <td>19004458</td>\n",
       "      <td>RAWM.HOUS.IMP.NA</td>\n",
       "      <td>RAWM</td>\n",
       "      <td>HOUS</td>\n",
       "      <td>IMP</td>\n",
       "      <td>NA</td>\n",
       "      <td>50 WAY F W/P HOUS ASSY BLK</td>\n",
       "      <td>Nos</td>\n",
       "      <td>12-APR-20 - 27-DEC-20</td>\n",
       "      <td>2020-04-11 04:28:48</td>\n",
       "      <td>186</td>\n",
       "      <td>3511.0</td>\n",
       "    </tr>\n",
       "    <tr>\n",
       "      <th>999</th>\n",
       "      <td>P01</td>\n",
       "      <td>18002350</td>\n",
       "      <td>RAWM.TRML.IMP.NA</td>\n",
       "      <td>RAWM</td>\n",
       "      <td>TRML</td>\n",
       "      <td>IMP</td>\n",
       "      <td>NA</td>\n",
       "      <td>TRML F 250 POSI LK(CSA 0.75-2.0)</td>\n",
       "      <td>Nos</td>\n",
       "      <td>07-MAR-20 - 22-NOV-20</td>\n",
       "      <td>2020-03-06 02:30:29</td>\n",
       "      <td>182</td>\n",
       "      <td>9000.0</td>\n",
       "    </tr>\n",
       "    <tr>\n",
       "      <th>1029</th>\n",
       "      <td>P01</td>\n",
       "      <td>64400297</td>\n",
       "      <td>RAWM.CONN.IMP.NA</td>\n",
       "      <td>RAWM</td>\n",
       "      <td>CONN</td>\n",
       "      <td>IMP</td>\n",
       "      <td>NA</td>\n",
       "      <td>HX4J-3/12-G</td>\n",
       "      <td>Nos</td>\n",
       "      <td>07-MAR-20 - 22-NOV-20</td>\n",
       "      <td>2020-03-06 02:30:29</td>\n",
       "      <td>182</td>\n",
       "      <td>51.0</td>\n",
       "    </tr>\n",
       "    <tr>\n",
       "      <th>1043</th>\n",
       "      <td>P01</td>\n",
       "      <td>60984979</td>\n",
       "      <td>RAWM.HOUS.IMP.NA</td>\n",
       "      <td>RAWM</td>\n",
       "      <td>HOUS</td>\n",
       "      <td>IMP</td>\n",
       "      <td>NA</td>\n",
       "      <td>HE02 6F-NA</td>\n",
       "      <td>Nos</td>\n",
       "      <td>07-MAR-20 - 22-NOV-20</td>\n",
       "      <td>2020-03-06 02:30:29</td>\n",
       "      <td>182</td>\n",
       "      <td>1412.0</td>\n",
       "    </tr>\n",
       "  </tbody>\n",
       "</table>\n",
       "</div>"
      ],
      "text/plain": [
       "      org item_code     category_name  cn_1  cn_2 cn_3 cn_4  \\\n",
       "635   P01  14000536  RAWM.TRML.IMP.NA  RAWM  TRML  IMP   NA   \n",
       "900   P01  19004458  RAWM.HOUS.IMP.NA  RAWM  HOUS  IMP   NA   \n",
       "999   P01  18002350  RAWM.TRML.IMP.NA  RAWM  TRML  IMP   NA   \n",
       "1029  P01  64400297  RAWM.CONN.IMP.NA  RAWM  CONN  IMP   NA   \n",
       "1043  P01  60984979  RAWM.HOUS.IMP.NA  RAWM  HOUS  IMP   NA   \n",
       "\n",
       "                           description  uom             run_period  \\\n",
       "635                      218734-2L 187  Nos  21-FEB-21 - 07-NOV-21   \n",
       "900         50 WAY F W/P HOUS ASSY BLK  Nos  12-APR-20 - 27-DEC-20   \n",
       "999   TRML F 250 POSI LK(CSA 0.75-2.0)  Nos  07-MAR-20 - 22-NOV-20   \n",
       "1029                       HX4J-3/12-G  Nos  07-MAR-20 - 22-NOV-20   \n",
       "1043                        HE02 6F-NA  Nos  07-MAR-20 - 22-NOV-20   \n",
       "\n",
       "         collection_date  run_no  recommended_total_qty  \n",
       "635  2021-02-25 09:19:16     245                   45.0  \n",
       "900  2020-04-11 04:28:48     186                 3511.0  \n",
       "999  2020-03-06 02:30:29     182                 9000.0  \n",
       "1029 2020-03-06 02:30:29     182                   51.0  \n",
       "1043 2020-03-06 02:30:29     182                 1412.0  "
      ]
     },
     "execution_count": 31,
     "metadata": {},
     "output_type": "execute_result"
    }
   ],
   "source": [
    "f_data_cleaned.head()"
   ]
  },
  {
   "cell_type": "markdown",
   "id": "e413490a-f139-43e7-901d-8b99f581e6ff",
   "metadata": {
    "tags": []
   },
   "source": [
    "## Data Export (Exporting filtered dataframe cleaned and features consistent at item level)"
   ]
  },
  {
   "cell_type": "raw",
   "id": "676a44ab-fc81-44fa-b42e-7d0b0606860c",
   "metadata": {
    "tags": []
   },
   "source": [
    "f_data_cleaned.to_csv(r'metadata/data_filtered_cleaned.csv', index=False)\n",
    "print(\"Exported\")"
   ]
  },
  {
   "cell_type": "markdown",
   "id": "93aed9ce-54ab-44f5-811e-b951dad533c9",
   "metadata": {
    "tags": []
   },
   "source": [
    "# Checkpoint 1 (Filtered Cleaned Data)"
   ]
  },
  {
   "cell_type": "raw",
   "id": "ce8d8412-3e95-42c2-8c2f-a54b6c4792bb",
   "metadata": {
    "tags": []
   },
   "source": [
    "f_data_cleaned_import = pd.read_csv(r'metadata/data_filtered_cleaned.csv')"
   ]
  },
  {
   "cell_type": "raw",
   "id": "8d3bfbfd-bdb2-4a82-ac32-8a0b9c34fe1c",
   "metadata": {
    "tags": []
   },
   "source": [
    "f_data_cleaned = f_data_cleaned_import.copy(deep=True)\n",
    "f_data_cleaned[\"collection_date\"] = pd.to_datetime(f_data_cleaned[\"collection_date\"])\n",
    "f_data_cleaned[\"recommended_total_qty\"] = f_data_cleaned[\"recommended_total_qty\"].astype(\"float\")"
   ]
  },
  {
   "cell_type": "markdown",
   "id": "e2ad406a-e730-41e1-b1b3-151c636d111b",
   "metadata": {},
   "source": [
    "## Dropping columns irrelevant for forecasting"
   ]
  },
  {
   "cell_type": "code",
   "execution_count": 32,
   "id": "f31840b0-4a0d-4f6c-81ee-d13710a1a8c2",
   "metadata": {
    "tags": []
   },
   "outputs": [
    {
     "data": {
      "text/html": [
       "<div>\n",
       "<style scoped>\n",
       "    .dataframe tbody tr th:only-of-type {\n",
       "        vertical-align: middle;\n",
       "    }\n",
       "\n",
       "    .dataframe tbody tr th {\n",
       "        vertical-align: top;\n",
       "    }\n",
       "\n",
       "    .dataframe thead th {\n",
       "        text-align: right;\n",
       "    }\n",
       "</style>\n",
       "<table border=\"1\" class=\"dataframe\">\n",
       "  <thead>\n",
       "    <tr style=\"text-align: right;\">\n",
       "      <th></th>\n",
       "      <th>org</th>\n",
       "      <th>item_code</th>\n",
       "      <th>category_name</th>\n",
       "      <th>cn_1</th>\n",
       "      <th>cn_2</th>\n",
       "      <th>cn_3</th>\n",
       "      <th>cn_4</th>\n",
       "      <th>description</th>\n",
       "      <th>uom</th>\n",
       "      <th>run_period</th>\n",
       "      <th>collection_date</th>\n",
       "      <th>run_no</th>\n",
       "      <th>recommended_total_qty</th>\n",
       "    </tr>\n",
       "  </thead>\n",
       "  <tbody>\n",
       "    <tr>\n",
       "      <th>635</th>\n",
       "      <td>P01</td>\n",
       "      <td>14000536</td>\n",
       "      <td>RAWM.TRML.IMP.NA</td>\n",
       "      <td>RAWM</td>\n",
       "      <td>TRML</td>\n",
       "      <td>IMP</td>\n",
       "      <td>NA</td>\n",
       "      <td>218734-2L 187</td>\n",
       "      <td>Nos</td>\n",
       "      <td>21-FEB-21 - 07-NOV-21</td>\n",
       "      <td>2021-02-25 09:19:16</td>\n",
       "      <td>245</td>\n",
       "      <td>45.0</td>\n",
       "    </tr>\n",
       "    <tr>\n",
       "      <th>900</th>\n",
       "      <td>P01</td>\n",
       "      <td>19004458</td>\n",
       "      <td>RAWM.HOUS.IMP.NA</td>\n",
       "      <td>RAWM</td>\n",
       "      <td>HOUS</td>\n",
       "      <td>IMP</td>\n",
       "      <td>NA</td>\n",
       "      <td>50 WAY F W/P HOUS ASSY BLK</td>\n",
       "      <td>Nos</td>\n",
       "      <td>12-APR-20 - 27-DEC-20</td>\n",
       "      <td>2020-04-11 04:28:48</td>\n",
       "      <td>186</td>\n",
       "      <td>3511.0</td>\n",
       "    </tr>\n",
       "    <tr>\n",
       "      <th>999</th>\n",
       "      <td>P01</td>\n",
       "      <td>18002350</td>\n",
       "      <td>RAWM.TRML.IMP.NA</td>\n",
       "      <td>RAWM</td>\n",
       "      <td>TRML</td>\n",
       "      <td>IMP</td>\n",
       "      <td>NA</td>\n",
       "      <td>TRML F 250 POSI LK(CSA 0.75-2.0)</td>\n",
       "      <td>Nos</td>\n",
       "      <td>07-MAR-20 - 22-NOV-20</td>\n",
       "      <td>2020-03-06 02:30:29</td>\n",
       "      <td>182</td>\n",
       "      <td>9000.0</td>\n",
       "    </tr>\n",
       "  </tbody>\n",
       "</table>\n",
       "</div>"
      ],
      "text/plain": [
       "     org item_code     category_name  cn_1  cn_2 cn_3 cn_4  \\\n",
       "635  P01  14000536  RAWM.TRML.IMP.NA  RAWM  TRML  IMP   NA   \n",
       "900  P01  19004458  RAWM.HOUS.IMP.NA  RAWM  HOUS  IMP   NA   \n",
       "999  P01  18002350  RAWM.TRML.IMP.NA  RAWM  TRML  IMP   NA   \n",
       "\n",
       "                          description  uom             run_period  \\\n",
       "635                     218734-2L 187  Nos  21-FEB-21 - 07-NOV-21   \n",
       "900        50 WAY F W/P HOUS ASSY BLK  Nos  12-APR-20 - 27-DEC-20   \n",
       "999  TRML F 250 POSI LK(CSA 0.75-2.0)  Nos  07-MAR-20 - 22-NOV-20   \n",
       "\n",
       "        collection_date  run_no  recommended_total_qty  \n",
       "635 2021-02-25 09:19:16     245                   45.0  \n",
       "900 2020-04-11 04:28:48     186                 3511.0  \n",
       "999 2020-03-06 02:30:29     182                 9000.0  "
      ]
     },
     "execution_count": 32,
     "metadata": {},
     "output_type": "execute_result"
    }
   ],
   "source": [
    "f_data_cleaned.head(3)"
   ]
  },
  {
   "cell_type": "code",
   "execution_count": 33,
   "id": "c9ae53be-1f0b-4c7c-8fd5-db537d758754",
   "metadata": {
    "tags": []
   },
   "outputs": [],
   "source": [
    "model_data = f_data_cleaned.drop(columns=[\"category_name\",\"cn_1\",\"cn_3\",\"cn_4\",\"description\",\"run_period\",\"run_no\"])"
   ]
  },
  {
   "cell_type": "code",
   "execution_count": 34,
   "id": "d8981a99-f3d0-4cf3-85a3-67db9ad63517",
   "metadata": {
    "tags": []
   },
   "outputs": [],
   "source": [
    "model_data['uom'] = model_data['uom'].str.upper()\n",
    "model_data['cn_2'] = model_data['cn_2'].str.upper()\n",
    "model_data['uom'] = model_data['uom'].str.strip()"
   ]
  },
  {
   "cell_type": "code",
   "execution_count": 35,
   "id": "617d0726-64cf-4abb-aa99-c00062453bcf",
   "metadata": {
    "tags": []
   },
   "outputs": [
    {
     "data": {
      "text/html": [
       "<div>\n",
       "<style scoped>\n",
       "    .dataframe tbody tr th:only-of-type {\n",
       "        vertical-align: middle;\n",
       "    }\n",
       "\n",
       "    .dataframe tbody tr th {\n",
       "        vertical-align: top;\n",
       "    }\n",
       "\n",
       "    .dataframe thead th {\n",
       "        text-align: right;\n",
       "    }\n",
       "</style>\n",
       "<table border=\"1\" class=\"dataframe\">\n",
       "  <thead>\n",
       "    <tr style=\"text-align: right;\">\n",
       "      <th></th>\n",
       "      <th>org</th>\n",
       "      <th>item_code</th>\n",
       "      <th>cn_2</th>\n",
       "      <th>uom</th>\n",
       "      <th>collection_date</th>\n",
       "      <th>recommended_total_qty</th>\n",
       "    </tr>\n",
       "  </thead>\n",
       "  <tbody>\n",
       "    <tr>\n",
       "      <th>635</th>\n",
       "      <td>P01</td>\n",
       "      <td>14000536</td>\n",
       "      <td>TRML</td>\n",
       "      <td>NOS</td>\n",
       "      <td>2021-02-25 09:19:16</td>\n",
       "      <td>45.0</td>\n",
       "    </tr>\n",
       "    <tr>\n",
       "      <th>900</th>\n",
       "      <td>P01</td>\n",
       "      <td>19004458</td>\n",
       "      <td>HOUS</td>\n",
       "      <td>NOS</td>\n",
       "      <td>2020-04-11 04:28:48</td>\n",
       "      <td>3511.0</td>\n",
       "    </tr>\n",
       "    <tr>\n",
       "      <th>999</th>\n",
       "      <td>P01</td>\n",
       "      <td>18002350</td>\n",
       "      <td>TRML</td>\n",
       "      <td>NOS</td>\n",
       "      <td>2020-03-06 02:30:29</td>\n",
       "      <td>9000.0</td>\n",
       "    </tr>\n",
       "    <tr>\n",
       "      <th>1029</th>\n",
       "      <td>P01</td>\n",
       "      <td>64400297</td>\n",
       "      <td>CONN</td>\n",
       "      <td>NOS</td>\n",
       "      <td>2020-03-06 02:30:29</td>\n",
       "      <td>51.0</td>\n",
       "    </tr>\n",
       "    <tr>\n",
       "      <th>1043</th>\n",
       "      <td>P01</td>\n",
       "      <td>60984979</td>\n",
       "      <td>HOUS</td>\n",
       "      <td>NOS</td>\n",
       "      <td>2020-03-06 02:30:29</td>\n",
       "      <td>1412.0</td>\n",
       "    </tr>\n",
       "  </tbody>\n",
       "</table>\n",
       "</div>"
      ],
      "text/plain": [
       "      org item_code  cn_2  uom     collection_date  recommended_total_qty\n",
       "635   P01  14000536  TRML  NOS 2021-02-25 09:19:16                   45.0\n",
       "900   P01  19004458  HOUS  NOS 2020-04-11 04:28:48                 3511.0\n",
       "999   P01  18002350  TRML  NOS 2020-03-06 02:30:29                 9000.0\n",
       "1029  P01  64400297  CONN  NOS 2020-03-06 02:30:29                   51.0\n",
       "1043  P01  60984979  HOUS  NOS 2020-03-06 02:30:29                 1412.0"
      ]
     },
     "execution_count": 35,
     "metadata": {},
     "output_type": "execute_result"
    }
   ],
   "source": [
    "model_data.head()"
   ]
  },
  {
   "cell_type": "code",
   "execution_count": 36,
   "id": "7ce28ec7-8920-434e-96ba-bfc60ed261c7",
   "metadata": {
    "tags": []
   },
   "outputs": [
    {
     "data": {
      "text/plain": [
       "uom\n",
       "NOS    205784\n",
       "M       80701\n",
       "KG       2074\n",
       "L        1513\n",
       "Name: count, dtype: int64"
      ]
     },
     "execution_count": 36,
     "metadata": {},
     "output_type": "execute_result"
    }
   ],
   "source": [
    "model_data['uom'].value_counts()"
   ]
  },
  {
   "cell_type": "code",
   "execution_count": 37,
   "id": "240d1772-d878-4347-8ec5-f40bf09f7d8b",
   "metadata": {
    "tags": []
   },
   "outputs": [
    {
     "data": {
      "text/plain": [
       "5396"
      ]
     },
     "execution_count": 37,
     "metadata": {},
     "output_type": "execute_result"
    }
   ],
   "source": [
    "model_data['item_code'].nunique()"
   ]
  },
  {
   "cell_type": "markdown",
   "id": "805f3c38-3c73-4620-a781-33f641839ec1",
   "metadata": {
    "tags": []
   },
   "source": [
    "## Plant level complete week filled dataframe for each items"
   ]
  },
  {
   "cell_type": "code",
   "execution_count": 38,
   "id": "91594502-eda0-4244-bfb6-9fb172c40734",
   "metadata": {
    "tags": []
   },
   "outputs": [],
   "source": [
    "def assign_week_number(f_data):\n",
    "    #f_data = f_data.copy()\n",
    "    \"\"\"\n",
    "    Assigns a week number to each record based on the minimum collection_date in the dataset.\n",
    "\n",
    "    Parameters:\n",
    "    f_data (pd.DataFrame): The dataset with a 'collection_date' column.\n",
    "\n",
    "    Returns:\n",
    "    pd.DataFrame: The dataset with an added 'week_number' column.\n",
    "    \"\"\"\n",
    "    # Convert collection_date to datetime if it's not already\n",
    "    # f_data['collection_date'] = pd.to_datetime(f_data['collection_date'])\n",
    "\n",
    "    # Find the minimum collection date\n",
    "    min_date = f_data['collection_date'].min()\n",
    "\n",
    "    # Calculate the difference in days and assign week numbers\n",
    "    f_data['week_number'] = ((f_data['collection_date'] - min_date).dt.days // 7) + 1\n",
    "\n",
    "    return f_data\n",
    "\n",
    "\n",
    "def roll_up_weekly(f_data):\n",
    "    \"\"\"\n",
    "    Aggregates the dataset at the item-week level by summing recommended_total_qty.\n",
    "\n",
    "    Parameters:\n",
    "    f_data (pd.DataFrame): The dataset with 'item_code', 'week_number', and 'recommended_total_qty'.\n",
    "\n",
    "    Returns:\n",
    "    pd.DataFrame: A rolled-up dataset at the item-week level.\n",
    "    \"\"\"\n",
    "    # Ensure week_number is computed\n",
    "    if 'week_number' not in f_data.columns:\n",
    "        raise ValueError(\"week_number column is missing. Ensure it is computed before rolling up.\")\n",
    "\n",
    "    # Define columns to keep (ensuring we retain unique values per item)\n",
    "    columns_to_keep = ['org','item_code', 'cn_2', 'uom']\n",
    "\n",
    "    # Drop duplicates to retain only one unique row per item\n",
    "    f_data_unique = f_data.drop_duplicates(subset=['item_code'])[columns_to_keep]\n",
    "\n",
    "    # Aggregate at item-week level\n",
    "    f_data_agg = f_data.groupby(['item_code', 'week_number'], as_index=False)['recommended_total_qty'].sum()\n",
    "\n",
    "    # Merge aggregated values back with the unique item-level details\n",
    "    f_data_final = pd.merge(f_data_agg, f_data_unique, on='item_code', how='left')\n",
    "\n",
    "    return f_data_final\n",
    "\n",
    "\n",
    "def prepare_weekly_forecasting_data(f_data):\n",
    "    \"\"\"\n",
    "    Prepares the weekly forecasting dataset by rolling up data at the week level, \n",
    "    filling missing weeks with zero demand, and ensuring item metadata is retained.\n",
    "\n",
    "    Parameters:\n",
    "        f_data (pd.DataFrame): The cleaned dataset with 'item_code', 'week_number', and 'recommended_total_qty'.\n",
    "\n",
    "    Returns:\n",
    "        pd.DataFrame: Processed dataset with missing weeks filled.\n",
    "    \"\"\"\n",
    "    # Step 1: Find the global min and max week numbers\n",
    "    min_week = f_data['week_number'].min()\n",
    "    max_week = f_data['week_number'].max()\n",
    "\n",
    "    # Step 2: Get all unique item codes\n",
    "    all_items = f_data['item_code'].unique()\n",
    "\n",
    "    # Step 3: Create a full DataFrame with all combinations of (item_code, week_number)\n",
    "    all_weeks = range(min_week, max_week + 1)\n",
    "    full_index = pd.MultiIndex.from_product([all_items, all_weeks], names=['item_code', 'week_number'])\n",
    "    full_df = pd.DataFrame(index=full_index).reset_index()\n",
    "\n",
    "    # Step 4: Merge with only the required columns to avoid duplication\n",
    "    f_data_subset = f_data[['item_code', 'week_number', 'recommended_total_qty']]\n",
    "    f_data_filled = pd.merge(full_df, f_data_subset, on=['item_code', 'week_number'], how='left')\n",
    "\n",
    "    # Step 5: Fill missing values with zero for demand\n",
    "    f_data_filled['recommended_total_qty'] = f_data_filled['recommended_total_qty'].fillna(0)\n",
    "\n",
    "    # Step 6: Merge metadata from the original data, ensuring unique item mappings\n",
    "    metadata_cols = ['org', 'uom', 'cn_2']\n",
    "    f_data_filled = pd.merge(\n",
    "        f_data_filled, \n",
    "        f_data.drop_duplicates(subset=['item_code'])[['item_code'] + metadata_cols], \n",
    "        on='item_code', \n",
    "        how='left'\n",
    "    )\n",
    "\n",
    "    return f_data_filled"
   ]
  },
  {
   "cell_type": "code",
   "execution_count": 39,
   "id": "6a6a3c78-f00d-4dc3-a853-7615b4d54755",
   "metadata": {
    "tags": []
   },
   "outputs": [],
   "source": [
    "def plant_level_operations(df):\n",
    "    df = df.copy()\n",
    "    df_list = []\n",
    "    \n",
    "    for org in df['org'].unique():\n",
    "        df_org = df[df['org']==org]\n",
    "        with_week_number_df = assign_week_number(df_org)\n",
    "        #print(with_week_number_df.head(2))\n",
    "        rolled_up_weekly_df = roll_up_weekly(with_week_number_df)\n",
    "        #print(rolled_up_weekly_df.head(2))\n",
    "        prepare_weekly_forecasting_data_df = prepare_weekly_forecasting_data(rolled_up_weekly_df)\n",
    "        #print(prepare_weekly_forecasting_data_df.head(2))\n",
    "        df_list.append(prepare_weekly_forecasting_data_df)\n",
    "\n",
    "    return df_list"
   ]
  },
  {
   "cell_type": "code",
   "execution_count": 40,
   "id": "9aaf1941-aea6-4087-b7a4-db10e02e9636",
   "metadata": {
    "tags": []
   },
   "outputs": [],
   "source": [
    "model_data_list = plant_level_operations(model_data)"
   ]
  },
  {
   "cell_type": "markdown",
   "id": "2093fe98-625b-456d-ac86-6ede9dc02119",
   "metadata": {
    "tags": []
   },
   "source": [
    "## Info"
   ]
  },
  {
   "cell_type": "code",
   "execution_count": 41,
   "id": "78e32e39-5189-4420-9032-a8d12e6f4210",
   "metadata": {
    "tags": []
   },
   "outputs": [
    {
     "name": "stdout",
     "output_type": "stream",
     "text": [
      "Plant: ['P01'] :: min_week: 1 :: max_week: 267 :: Items: 77 :: INDEX: 0\n",
      "Plant: ['P02'] :: min_week: 1 :: max_week: 103 :: Items: 1274 :: INDEX: 1\n",
      "Plant: ['P03'] :: min_week: 1 :: max_week: 103 :: Items: 759 :: INDEX: 2\n",
      "Plant: ['P04'] :: min_week: 1 :: max_week: 267 :: Items: 108 :: INDEX: 3\n",
      "Plant: ['P07'] :: min_week: 1 :: max_week: 267 :: Items: 163 :: INDEX: 4\n",
      "Plant: ['P08'] :: min_week: 1 :: max_week: 267 :: Items: 104 :: INDEX: 5\n",
      "Plant: ['P09'] :: min_week: 1 :: max_week: 267 :: Items: 17 :: INDEX: 6\n",
      "Plant: ['P10'] :: min_week: 1 :: max_week: 105 :: Items: 221 :: INDEX: 7\n",
      "Plant: ['P11'] :: min_week: 1 :: max_week: 267 :: Items: 78 :: INDEX: 8\n",
      "Plant: ['P12'] :: min_week: 1 :: max_week: 267 :: Items: 98 :: INDEX: 9\n",
      "Plant: ['P14'] :: min_week: 1 :: max_week: 267 :: Items: 80 :: INDEX: 10\n",
      "Plant: ['P15'] :: min_week: 1 :: max_week: 267 :: Items: 524 :: INDEX: 11\n",
      "Plant: ['P16'] :: min_week: 1 :: max_week: 267 :: Items: 12 :: INDEX: 12\n",
      "Plant: ['P22'] :: min_week: 1 :: max_week: 267 :: Items: 22 :: INDEX: 13\n",
      "Plant: ['P23'] :: min_week: 1 :: max_week: 56 :: Items: 1 :: INDEX: 14\n",
      "Plant: ['P31'] :: min_week: 1 :: max_week: 105 :: Items: 512 :: INDEX: 15\n",
      "Plant: ['P32'] :: min_week: 1 :: max_week: 155 :: Items: 869 :: INDEX: 16\n",
      "Plant: ['P34'] :: min_week: 1 :: max_week: 136 :: Items: 751 :: INDEX: 17\n",
      "Plant: ['P36'] :: min_week: 1 :: max_week: 105 :: Items: 39 :: INDEX: 18\n",
      "Plant: ['P40'] :: min_week: 1 :: max_week: 16 :: Items: 586 :: INDEX: 19\n",
      "Plant: ['P41'] :: min_week: 1 :: max_week: 16 :: Items: 83 :: INDEX: 20\n",
      "Plant: ['P42'] :: min_week: 1 :: max_week: 16 :: Items: 103 :: INDEX: 21\n"
     ]
    }
   ],
   "source": [
    "counter = 0\n",
    "for df in model_data_list:\n",
    "    print(f'Plant: {df[\"org\"].unique()} :: min_week: {df[\"week_number\"].min()} :: max_week: {df[\"week_number\"].max()} :: Items: {df[\"item_code\"].nunique()} :: INDEX: {counter}')\n",
    "    counter+=1"
   ]
  },
  {
   "cell_type": "code",
   "execution_count": 42,
   "id": "eaa35d35-6eef-4958-a42e-25ffa0bfaf70",
   "metadata": {
    "tags": []
   },
   "outputs": [
    {
     "name": "stdout",
     "output_type": "stream",
     "text": [
      "Requirement already satisfied: PrettyTable in /opt/conda/lib/python3.11/site-packages (3.16.0)\n",
      "Requirement already satisfied: wcwidth in /opt/conda/lib/python3.11/site-packages (from PrettyTable) (0.2.13)\n",
      "Note: you may need to restart the kernel to use updated packages.\n"
     ]
    }
   ],
   "source": [
    "pip install PrettyTable"
   ]
  },
  {
   "cell_type": "code",
   "execution_count": 43,
   "id": "f60f6032-4312-4eae-b610-b699afe8f671",
   "metadata": {
    "tags": []
   },
   "outputs": [
    {
     "name": "stdout",
     "output_type": "stream",
     "text": [
      "+-------+----------+----------+-------+\n",
      "| Plant | Min Week | Max Week | Items |\n",
      "+-------+----------+----------+-------+\n",
      "|  P01  |    1     |   267    |   77  |\n",
      "|  P02  |    1     |   103    |  1274 |\n",
      "|  P03  |    1     |   103    |  759  |\n",
      "|  P04  |    1     |   267    |  108  |\n",
      "|  P07  |    1     |   267    |  163  |\n",
      "|  P08  |    1     |   267    |  104  |\n",
      "|  P09  |    1     |   267    |   17  |\n",
      "|  P10  |    1     |   105    |  221  |\n",
      "|  P11  |    1     |   267    |   78  |\n",
      "|  P12  |    1     |   267    |   98  |\n",
      "|  P14  |    1     |   267    |   80  |\n",
      "|  P15  |    1     |   267    |  524  |\n",
      "|  P16  |    1     |   267    |   12  |\n",
      "|  P22  |    1     |   267    |   22  |\n",
      "|  P23  |    1     |    56    |   1   |\n",
      "|  P31  |    1     |   105    |  512  |\n",
      "|  P32  |    1     |   155    |  869  |\n",
      "|  P34  |    1     |   136    |  751  |\n",
      "|  P36  |    1     |   105    |   39  |\n",
      "|  P40  |    1     |    16    |  586  |\n",
      "|  P41  |    1     |    16    |   83  |\n",
      "|  P42  |    1     |    16    |  103  |\n",
      "+-------+----------+----------+-------+\n"
     ]
    }
   ],
   "source": [
    "from prettytable import PrettyTable\n",
    "\n",
    "# Initialize PrettyTable\n",
    "table = PrettyTable()\n",
    "table.field_names = [\"Plant\", \"Min Week\", \"Max Week\", \"Items\"]\n",
    "\n",
    "# Populate table\n",
    "counter = 0\n",
    "for df in model_data_list:\n",
    "    plant = df[\"org\"].unique()[0]  # Assuming one unique plant per df\n",
    "    min_week = df[\"week_number\"].min()\n",
    "    max_week = df[\"week_number\"].max()\n",
    "    items = df[\"item_code\"].nunique()\n",
    "    \n",
    "    table.add_row([plant, min_week, max_week, items])\n",
    "\n",
    "# Print the table\n",
    "print(table)\n"
   ]
  },
  {
   "cell_type": "code",
   "execution_count": 44,
   "id": "721e66fa-3b07-4a84-87a2-eb0e5ff1f2e2",
   "metadata": {
    "tags": []
   },
   "outputs": [
    {
     "name": "stdout",
     "output_type": "stream",
     "text": [
      "Unique Items: 5396 :: Plants: 22 :: Included_Plants: ['P01' 'P02' 'P03' 'P04' 'P07' 'P08' 'P09' 'P10' 'P11' 'P12' 'P14' 'P15'\n",
      " 'P16' 'P22' 'P23' 'P31' 'P32' 'P34' 'P36' 'P40' 'P41' 'P42']\n"
     ]
    }
   ],
   "source": [
    "mod_data_comb = pd.concat(model_data_list, axis=0)\n",
    "print(f'Unique Items: {mod_data_comb[\"item_code\"].nunique()} :: Plants: {mod_data_comb[\"org\"].nunique()} :: Included_Plants: {mod_data_comb[\"org\"].unique()}')\n",
    "del mod_data_comb"
   ]
  },
  {
   "cell_type": "markdown",
   "id": "733273de-8097-4389-877e-ac2817b8f395",
   "metadata": {},
   "source": [
    "# Feature Engineering"
   ]
  },
  {
   "cell_type": "code",
   "execution_count": 45,
   "id": "219e7285-5178-4ab5-acff-7f14be285bc7",
   "metadata": {},
   "outputs": [],
   "source": [
    "import numpy as np\n",
    "import pandas as pd\n",
    "\n",
    "def add_features(df, lags=[1, 2, 4, 8], rolling_windows=[2, 4, 8]):\n",
    "    \"\"\"\n",
    "    Adds lag features, rolling statistics, time-based cyclic features, \n",
    "    and an 'is_live' feature to indicate when an item becomes active.\n",
    "    \n",
    "    Parameters:\n",
    "    df (pd.DataFrame): Input DataFrame with columns [\"item_code\", \"week_number\", \"recommended_total_qty\"].\n",
    "    lags (list): List of lag periods to include.\n",
    "    rolling_windows (list): List of window sizes for moving averages.\n",
    "\n",
    "    Returns:\n",
    "    pd.DataFrame: DataFrame with new features added.\n",
    "    \"\"\"\n",
    "    df = df.copy()\n",
    "    \n",
    "    # Sort values to ensure correct lagging\n",
    "    df.sort_values(by=[\"item_code\", \"week_number\"], inplace=True)\n",
    "    \n",
    "    # Group by item_code to ensure operations happen per item\n",
    "    grouped = df.groupby(\"item_code\")\n",
    "    \n",
    "    # Add lag features\n",
    "    for lag in lags:\n",
    "        df[f\"lag_{lag}\"] = grouped[\"recommended_total_qty\"].shift(lag).fillna(0)  \n",
    "\n",
    "    # Add rolling statistics\n",
    "    for window in rolling_windows:\n",
    "        df[f\"rolling_avg_{window}\"] = grouped[\"recommended_total_qty\"].transform(lambda x: x.rolling(window).mean()).fillna(method='ffill').fillna(0)\n",
    "        df[f\"rolling_pct_change_{window}\"] = grouped[\"recommended_total_qty\"].transform(lambda x: x.pct_change(periods=window)).replace([float(\"inf\"), float(\"-inf\")], 1.0).fillna(0)\n",
    "\n",
    "    # ---- TIME-BASED FEATURES ---- #\n",
    "    df[\"week_sin\"] = np.sin(2 * np.pi * df[\"week_number\"] / 52)\n",
    "    df[\"week_cos\"] = np.cos(2 * np.pi * df[\"week_number\"] / 52)\n",
    "    \n",
    "    # ---- NEW FEATURE: IS_LIVE ---- #\n",
    "    def compute_is_live(series):\n",
    "        first_nonzero_index = (series != 0).idxmax()  # Find first non-zero week index\n",
    "        return (series.index >= first_nonzero_index).astype(int)  # 1 after first demand, 0 before\n",
    "\n",
    "    df[\"is_live\"] = grouped[\"recommended_total_qty\"].transform(compute_is_live)\n",
    "\n",
    "    return df"
   ]
  },
  {
   "cell_type": "code",
   "execution_count": 46,
   "id": "d2ec33b7-066d-4bb1-be94-ac9505614804",
   "metadata": {
    "tags": []
   },
   "outputs": [],
   "source": [
    "def feature_engineering(df_list):\n",
    "    df_list_final = []\n",
    "    \n",
    "    for df in model_data_list:\n",
    "        df_list_final.append(add_features(df))\n",
    "        \n",
    "    return df_list_final"
   ]
  },
  {
   "cell_type": "code",
   "execution_count": 47,
   "id": "84404218-1e57-4050-8353-56e13bc8a3a7",
   "metadata": {
    "tags": []
   },
   "outputs": [],
   "source": [
    "model_data_list_engineered = feature_engineering(model_data_list)"
   ]
  },
  {
   "cell_type": "code",
   "execution_count": 48,
   "id": "db20ccc8-f447-478b-9231-e8860e65ea0e",
   "metadata": {
    "tags": []
   },
   "outputs": [
    {
     "data": {
      "text/html": [
       "<div>\n",
       "<style scoped>\n",
       "    .dataframe tbody tr th:only-of-type {\n",
       "        vertical-align: middle;\n",
       "    }\n",
       "\n",
       "    .dataframe tbody tr th {\n",
       "        vertical-align: top;\n",
       "    }\n",
       "\n",
       "    .dataframe thead th {\n",
       "        text-align: right;\n",
       "    }\n",
       "</style>\n",
       "<table border=\"1\" class=\"dataframe\">\n",
       "  <thead>\n",
       "    <tr style=\"text-align: right;\">\n",
       "      <th></th>\n",
       "      <th>item_code</th>\n",
       "      <th>week_number</th>\n",
       "      <th>recommended_total_qty</th>\n",
       "      <th>org</th>\n",
       "      <th>uom</th>\n",
       "      <th>cn_2</th>\n",
       "      <th>lag_1</th>\n",
       "      <th>lag_2</th>\n",
       "      <th>lag_4</th>\n",
       "      <th>lag_8</th>\n",
       "      <th>rolling_avg_2</th>\n",
       "      <th>rolling_pct_change_2</th>\n",
       "      <th>rolling_avg_4</th>\n",
       "      <th>rolling_pct_change_4</th>\n",
       "      <th>rolling_avg_8</th>\n",
       "      <th>rolling_pct_change_8</th>\n",
       "      <th>week_sin</th>\n",
       "      <th>week_cos</th>\n",
       "      <th>is_live</th>\n",
       "    </tr>\n",
       "  </thead>\n",
       "  <tbody>\n",
       "    <tr>\n",
       "      <th>0</th>\n",
       "      <td>00950404</td>\n",
       "      <td>1</td>\n",
       "      <td>0.0</td>\n",
       "      <td>P01</td>\n",
       "      <td>M</td>\n",
       "      <td>WIRE</td>\n",
       "      <td>0.0</td>\n",
       "      <td>0.0</td>\n",
       "      <td>0.0</td>\n",
       "      <td>0.0</td>\n",
       "      <td>0.0</td>\n",
       "      <td>0.0</td>\n",
       "      <td>0.0</td>\n",
       "      <td>0.0</td>\n",
       "      <td>0.0</td>\n",
       "      <td>0.0</td>\n",
       "      <td>0.120537</td>\n",
       "      <td>0.992709</td>\n",
       "      <td>0</td>\n",
       "    </tr>\n",
       "  </tbody>\n",
       "</table>\n",
       "</div>"
      ],
      "text/plain": [
       "  item_code  week_number  recommended_total_qty  org uom  cn_2  lag_1  lag_2  \\\n",
       "0  00950404            1                    0.0  P01   M  WIRE    0.0    0.0   \n",
       "\n",
       "   lag_4  lag_8  rolling_avg_2  rolling_pct_change_2  rolling_avg_4  \\\n",
       "0    0.0    0.0            0.0                   0.0            0.0   \n",
       "\n",
       "   rolling_pct_change_4  rolling_avg_8  rolling_pct_change_8  week_sin  \\\n",
       "0                   0.0            0.0                   0.0  0.120537   \n",
       "\n",
       "   week_cos  is_live  \n",
       "0  0.992709        0  "
      ]
     },
     "execution_count": 48,
     "metadata": {},
     "output_type": "execute_result"
    }
   ],
   "source": [
    "model_data_list_engineered[0].head(1)"
   ]
  },
  {
   "cell_type": "markdown",
   "id": "ccfe3ff6-9093-4903-bf54-5cb2687ef178",
   "metadata": {
    "tags": []
   },
   "source": [
    "### SAMPLE: Send one plant-item pair data post feature engineering"
   ]
  },
  {
   "cell_type": "raw",
   "id": "768e9db0-e12f-4c3f-a442-078106af2609",
   "metadata": {
    "tags": []
   },
   "source": [
    "sample_fe = model_data_list_engineered[0].copy()"
   ]
  },
  {
   "cell_type": "raw",
   "id": "46044309-7206-4ca6-a2e4-74b1b455670f",
   "metadata": {
    "tags": []
   },
   "source": [
    "sample_fe[sample_fe[\"item_code\"]==\"00950404\"].shape"
   ]
  },
  {
   "cell_type": "raw",
   "id": "e9db2aa4-24ca-4a16-b45b-691d52e24094",
   "metadata": {
    "tags": []
   },
   "source": [
    "sample_fe = sample_fe[sample_fe[\"item_code\"]==\"00950404\"]"
   ]
  },
  {
   "cell_type": "raw",
   "id": "caadb7ff-6a35-4288-8ee1-ada4cdd4c5a3",
   "metadata": {
    "tags": []
   },
   "source": [
    "sample_fe.to_csv(r\"metadata/sample/sample_fe_P01_00950404.csv\", index=False)\n",
    "print(\"sample_fe Exported\")"
   ]
  },
  {
   "cell_type": "markdown",
   "id": "e8531f38-c1d3-4af7-9ddb-1959a112359f",
   "metadata": {
    "tags": []
   },
   "source": [
    "# XGBoost"
   ]
  },
  {
   "cell_type": "code",
   "execution_count": 49,
   "id": "8204d61e-cd45-468f-a353-e8e61e016f92",
   "metadata": {
    "tags": []
   },
   "outputs": [
    {
     "name": "stdout",
     "output_type": "stream",
     "text": [
      "Requirement already satisfied: xgboost in /opt/conda/lib/python3.11/site-packages (3.0.0)\n",
      "Requirement already satisfied: numpy in /opt/conda/lib/python3.11/site-packages (from xgboost) (1.26.4)\n",
      "Requirement already satisfied: nvidia-nccl-cu12 in /opt/conda/lib/python3.11/site-packages (from xgboost) (2.26.2)\n",
      "Requirement already satisfied: scipy in /opt/conda/lib/python3.11/site-packages (from xgboost) (1.15.2)\n",
      "Note: you may need to restart the kernel to use updated packages.\n"
     ]
    }
   ],
   "source": [
    "pip install xgboost"
   ]
  },
  {
   "cell_type": "code",
   "execution_count": 50,
   "id": "d6eb5391-dc7b-4516-9486-70f665ed3dd5",
   "metadata": {
    "tags": []
   },
   "outputs": [],
   "source": [
    "def plot_feature_importance(model, feature_names):\n",
    "    \"\"\"\n",
    "    Plots the feature importance from the trained XGBoost model.\n",
    "\n",
    "    Parameters:\n",
    "    - model: Trained XGBoost model.\n",
    "    - feature_names: List of feature names used in the model.\n",
    "    \"\"\"\n",
    "    # Get feature importance scores\n",
    "    importance_values = model.feature_importances_\n",
    "    \n",
    "    # Create a DataFrame and sort by importance\n",
    "    importance_df = pd.DataFrame({'Feature': feature_names, 'Importance': importance_values})\n",
    "    importance_df = importance_df.sort_values(by='Importance', ascending=False)\n",
    "\n",
    "    # Plot\n",
    "    plt.figure(figsize=(12, 6))\n",
    "    plt.barh(importance_df['Feature'], importance_df['Importance'], color='royalblue')\n",
    "    plt.xlabel(\"Feature Importance Score\")\n",
    "    plt.ylabel(\"Features\")\n",
    "    plt.title(\"XGBoost Feature Importance (Sorted)\")\n",
    "    plt.gca().invert_yaxis()  # Highest importance on top\n",
    "    plt.show()\n"
   ]
  },
  {
   "cell_type": "code",
   "execution_count": 51,
   "id": "f5c65de0-cd33-430e-90b9-7ee6f70a7a3e",
   "metadata": {
    "tags": []
   },
   "outputs": [],
   "source": [
    "import xgboost as xgb\n",
    "from sklearn.metrics import mean_absolute_error, mean_squared_error\n",
    "import numpy as np\n",
    "import pandas as pd\n",
    "\n",
    "def train_xgboost(X_train, X_test, y_train, y_test, df_train, df_test, original_df):\n",
    "\n",
    "    # Define the model # 42\n",
    "    model = xgb.XGBRegressor(\n",
    "        objective=\"reg:squarederror\",\n",
    "        n_estimators=1000,\n",
    "        learning_rate=0.1,\n",
    "        max_depth=6,\n",
    "        random_state=43,\n",
    "        enable_categorical=True\n",
    "    )\n",
    "\n",
    "    # Train the model\n",
    "    model.fit(X_train, y_train)\n",
    "    \n",
    "    # Generate feature importance plot\n",
    "    # plot_feature_importance(model, feature_names=X_train.columns.to_list())\n",
    "\n",
    "    # Predictions\n",
    "    y_train_pred = model.predict(X_train)\n",
    "    y_test_pred = model.predict(X_test)\n",
    "    \n",
    "    # Ensure no negative predictions (set negative values to 0)\n",
    "    y_train_pred = np.where(y_train_pred < 0, 0, y_train_pred)\n",
    "    y_test_pred = np.where(y_test_pred < 0, 0, y_test_pred)\n",
    "\n",
    "    # Updated MAPE function (row-wise calculation)\n",
    "    def mape(actual, predicted, threshold=100):\n",
    "        if actual == 0 and predicted == 0:\n",
    "            return 0  # Case 1: Both are zero, no error\n",
    "        elif actual == 0:\n",
    "            if predicted < threshold:\n",
    "                return 0  # Ignore small fluctuations when AD is 0\n",
    "            else:\n",
    "                actual_adj = 1  # Avoid division by zero by setting AD to 1\n",
    "        else:\n",
    "            actual_adj = actual  # Normal case\n",
    "\n",
    "        return 100 * abs(predicted - actual) / actual_adj\n",
    "\n",
    "    # Prepare Results DataFrame\n",
    "    df_test[\"predicted_demand\"] = y_test_pred\n",
    "    df_test[\"actual_demand\"] = y_test\n",
    "    df_test[\"error\"] = df_test[\"actual_demand\"] - df_test[\"predicted_demand\"]\n",
    "\n",
    "    # Apply the updated MAPE function row-wise\n",
    "    df_test[\"percentage_error\"] = df_test.apply(lambda row: mape(row[\"actual_demand\"], row[\"predicted_demand\"]), axis=1)\n",
    "\n",
    "    # Restore original item_code (since it was encoded)\n",
    "    df_test[\"item_code\"] = original_df.loc[df_test.index, \"item_code\"]\n",
    "    df_test[\"uom\"] = original_df.loc[df_test.index, \"uom\"]\n",
    "    df_test[\"org\"] = original_df.loc[df_test.index, \"org\"]\n",
    "    \n",
    "    results_df = df_test[[\"org\", \"item_code\", \"actual_demand\", \"predicted_demand\", \"error\", \"percentage_error\", \"uom\"]]\n",
    "\n",
    "    # Compute overall MAPE for reporting\n",
    "    metrics_dict = {\n",
    "        \"Train MAE\": mean_absolute_error(y_train, y_train_pred),\n",
    "        \"Train RMSE\": np.sqrt(mean_squared_error(y_train, y_train_pred)),\n",
    "        \"Train MAPE\": np.nanmean([mape(a, p) for a, p in zip(y_train, y_train_pred)]),  # Aggregate at dataset level\n",
    "        \"Test MAE\": mean_absolute_error(y_test, y_test_pred),\n",
    "        \"Test RMSE\": np.sqrt(mean_squared_error(y_test, y_test_pred)),\n",
    "        \"Test MAPE\": np.nanmean([mape(a, p) for a, p in zip(y_test, y_test_pred)]),  # Aggregate at dataset level\n",
    "    }\n",
    "    \n",
    "    print(metrics_dict)\n",
    "    return metrics_dict, results_df\n"
   ]
  },
  {
   "cell_type": "code",
   "execution_count": 52,
   "id": "10d9029f-ed0b-4eda-bc76-56d72b1416d7",
   "metadata": {
    "tags": []
   },
   "outputs": [],
   "source": [
    "from sklearn.preprocessing import StandardScaler\n",
    "\n",
    "def preprocess_data(df, test_weeks, train_window=None):\n",
    "\n",
    "    df = df.copy()\n",
    "    original_df = df.copy()\n",
    "    \n",
    "    # Define features and target\n",
    "    target = \"recommended_total_qty\"\n",
    "    features = df.columns.difference([\"recommended_total_qty\",\"org\"]).tolist()\n",
    "\n",
    "\n",
    "    def encode_categorical(df):\n",
    "        \"\"\"Encodes categorical features like 'uom', 'item_code', and 'cn_2'.\"\"\"\n",
    "        df['uom'] = df['uom'].astype('category')\n",
    "        df['item_code'] = df['item_code'].astype('category')\n",
    "        df['cn_2'] = df['cn_2'].astype('category')\n",
    "        df['is_live'] = df['is_live'].astype('category')\n",
    "        return df\n",
    "\n",
    "    # Encode categorical variables\n",
    "    df = encode_categorical(df)\n",
    "\n",
    "    # Get the latest week number\n",
    "    max_week = df[\"week_number\"].max()\n",
    "    test_start_week = max_week - test_weeks + 1\n",
    "\n",
    "    df_test = df[df[\"week_number\"] >= test_start_week]  # Test set remains the same\n",
    "\n",
    "    # Apply train window restriction\n",
    "    if train_window:\n",
    "        train_start_week = max(test_start_week - train_window, df[\"week_number\"].min())  \n",
    "        df_train = df[(df[\"week_number\"] >= train_start_week) & (df[\"week_number\"] < test_start_week)]\n",
    "    else:\n",
    "        df_train = df[df[\"week_number\"] < test_start_week]  # Use all weeks before the test period\n",
    "\n",
    "     # Debugging print statements\n",
    "    # print(f\"Max week: {max_week}, Test start week: {test_start_week}\")\n",
    "    # print(f\"X_train shape: {df_train.shape}, X_test shape: {df_test.shape}\")\n",
    "    # print(f\"Train start week: {df_train['week_number'].min()}, Train end week: {df_train['week_number'].max()}\")\n",
    "\n",
    "\n",
    "    # Normalize numerical variables **AFTER** train-test split\n",
    "    numerical_cols = [\n",
    "        \"week_number\", \"lag_1\", \"lag_2\", \"lag_4\", \"lag_8\", \n",
    "        \"rolling_avg_2\", \"rolling_pct_change_2\",\"rolling_avg_4\", \"rolling_pct_change_4\", \"rolling_avg_8\", \n",
    "        \"rolling_pct_change_8\", \"week_sin\", \"week_cos\"\n",
    "    ]\n",
    "    \n",
    "    \n",
    "    scaler = StandardScaler()\n",
    "    df_train[numerical_cols] = scaler.fit_transform(df_train[numerical_cols])\n",
    "    df_test[numerical_cols] = scaler.transform(df_test[numerical_cols])  # Use same scaler for test set\n",
    "\n",
    "    # Split into X and y\n",
    "    X_train, y_train = df_train[features], df_train[target]\n",
    "    X_test, y_test = df_test[features], df_test[target]\n",
    "\n",
    "    # Function call to train XGBoost with the prepared train-test split\n",
    "    # train_xgboost(X_train, X_test, y_train, y_test, df_train, df_test, original_df)\n",
    "    return X_train, X_test, y_train, y_test, df_train, df_test, original_df"
   ]
  },
  {
   "cell_type": "code",
   "execution_count": 53,
   "id": "a5ce32fc-83b2-49eb-a944-5abc1a18f4f8",
   "metadata": {
    "tags": []
   },
   "outputs": [],
   "source": [
    "def main_call(df_list, test_weeks, train_window):\n",
    "    df_list = df_list.copy()\n",
    "    metrics_dict_list = []\n",
    "    results_df_list = []\n",
    "    \n",
    "    for df in df_list:\n",
    "        X_train, X_test, y_train, y_test, df_train, df_test, original_df = preprocess_data(df, test_weeks=test_weeks, train_window=train_window)\n",
    "        metrics_dict, results_df = train_xgboost(X_train, X_test, y_train, y_test, df_train, df_test, original_df)\n",
    "        metrics_dict_list.append(metrics_dict)\n",
    "        results_df_list.append(results_df)\n",
    "        \n",
    "    return metrics_dict_list, results_df_list"
   ]
  },
  {
   "cell_type": "code",
   "execution_count": 54,
   "id": "2e6a4bec-5277-475f-87fd-c40cc71ab82b",
   "metadata": {
    "tags": []
   },
   "outputs": [
    {
     "name": "stdout",
     "output_type": "stream",
     "text": [
      "Max week: 267, Test start week: 264\n",
      "X_train shape: (20251, 19), X_test shape: (308, 19)\n",
      "Train start week: 1, Train end week: 263\n",
      "{'Train MAE': 14.591435409919907, 'Train RMSE': 31.767308409714712, 'Train MAPE': 13.247239664587394, 'Test MAE': 153.78313425899327, 'Test RMSE': 2179.3945610867763, 'Test MAPE': 721.0762050053411}\n",
      "Max week: 103, Test start week: 100\n",
      "X_train shape: (126126, 19), X_test shape: (5096, 19)\n",
      "Train start week: 1, Train end week: 99\n",
      "{'Train MAE': 25.802732648959793, 'Train RMSE': 74.85681124434329, 'Train MAPE': 214.1024719225966, 'Test MAE': 621.527347358508, 'Test RMSE': 11237.42229203579, 'Test MAPE': 9686.497821649898}\n",
      "Max week: 103, Test start week: 100\n",
      "X_train shape: (75141, 19), X_test shape: (3036, 19)\n",
      "Train start week: 1, Train end week: 99\n",
      "{'Train MAE': 11.032284399541988, 'Train RMSE': 27.665062794304912, 'Train MAPE': 33.034314376919916, 'Test MAE': 312.0046525772143, 'Test RMSE': 2309.736377345554, 'Test MAPE': 7069.713340670099}\n",
      "Max week: 267, Test start week: 264\n",
      "X_train shape: (28404, 19), X_test shape: (432, 19)\n",
      "Train start week: 1, Train end week: 263\n",
      "{'Train MAE': 18.98215763967032, 'Train RMSE': 48.47403867080399, 'Train MAPE': 75.44412180018966, 'Test MAE': 341.68388033876437, 'Test RMSE': 5584.093312843532, 'Test MAPE': 130.26453135371108}\n",
      "Max week: 267, Test start week: 264\n",
      "X_train shape: (42869, 19), X_test shape: (652, 19)\n",
      "Train start week: 1, Train end week: 263\n",
      "{'Train MAE': 7.337638486847441, 'Train RMSE': 20.038313017771948, 'Train MAPE': 6.747073571826153, 'Test MAE': 51.51849989583887, 'Test RMSE': 501.6013413888292, 'Test MAPE': 499.4463395229276}\n",
      "Max week: 267, Test start week: 264\n",
      "X_train shape: (27352, 19), X_test shape: (416, 19)\n",
      "Train start week: 1, Train end week: 263\n",
      "{'Train MAE': 4.764044563097355, 'Train RMSE': 12.209454144895604, 'Train MAPE': 1.8810332458282715, 'Test MAE': 118.92149439680641, 'Test RMSE': 1864.6509752612528, 'Test MAPE': 59.032462793694826}\n",
      "Max week: 267, Test start week: 264\n",
      "X_train shape: (4471, 19), X_test shape: (68, 19)\n",
      "Train start week: 1, Train end week: 263\n",
      "{'Train MAE': 1.2618992204164288, 'Train RMSE': 2.8423358563774084, 'Train MAPE': 0.3912827082841696, 'Test MAE': 1434.8812108252416, 'Test RMSE': 11744.71234166103, 'Test MAPE': 1.3056803566939854}\n",
      "Max week: 105, Test start week: 102\n",
      "X_train shape: (22321, 19), X_test shape: (884, 19)\n",
      "Train start week: 1, Train end week: 101\n",
      "{'Train MAE': 22.250414379945774, 'Train RMSE': 46.67692740824197, 'Train MAPE': 83.3213621022662, 'Test MAE': 1695.100833243998, 'Test RMSE': 10909.003424067314, 'Test MAPE': 36972.73745752459}\n",
      "Max week: 267, Test start week: 264\n",
      "X_train shape: (20514, 19), X_test shape: (312, 19)\n",
      "Train start week: 1, Train end week: 263\n",
      "{'Train MAE': 3.659830214046698, 'Train RMSE': 10.726903531917378, 'Train MAPE': 1.031287568893268, 'Test MAE': 186.61640502739314, 'Test RMSE': 1606.4872671455655, 'Test MAPE': 2576.3753427767524}\n",
      "Max week: 267, Test start week: 264\n",
      "X_train shape: (25774, 19), X_test shape: (392, 19)\n",
      "Train start week: 1, Train end week: 263\n",
      "{'Train MAE': 5.631563395795001, 'Train RMSE': 15.169327034387532, 'Train MAPE': 4.802429862884659, 'Test MAE': 2173.0002573125603, 'Test RMSE': 41767.00694853879, 'Test MAPE': 2806.3300844490045}\n",
      "Max week: 267, Test start week: 264\n",
      "X_train shape: (21040, 19), X_test shape: (320, 19)\n",
      "Train start week: 1, Train end week: 263\n",
      "{'Train MAE': 8.80107374405811, 'Train RMSE': 23.666696941860117, 'Train MAPE': 13.680986943076764, 'Test MAE': 327.1781338672008, 'Test RMSE': 2018.4111735744887, 'Test MAPE': 26814.04228215613}\n",
      "Max week: 267, Test start week: 264\n",
      "X_train shape: (137812, 19), X_test shape: (2096, 19)\n",
      "Train start week: 1, Train end week: 263\n",
      "{'Train MAE': 88.98612201795683, 'Train RMSE': 273.8403333641822, 'Train MAPE': 725.0030772668584, 'Test MAE': 166.1119197457211, 'Test RMSE': 1363.2906867626075, 'Test MAPE': 1555.473678672173}\n",
      "Max week: 267, Test start week: 264\n",
      "X_train shape: (3156, 19), X_test shape: (48, 19)\n",
      "Train start week: 1, Train end week: 263\n",
      "{'Train MAE': 0.1974298972817853, 'Train RMSE': 0.4799806223995423, 'Train MAPE': 0.011078006334489259, 'Test MAE': 1116.2729668617249, 'Test RMSE': 4035.9156495865045, 'Test MAPE': 3135.468805742601}\n",
      "Max week: 267, Test start week: 264\n",
      "X_train shape: (5786, 19), X_test shape: (88, 19)\n",
      "Train start week: 1, Train end week: 263\n",
      "{'Train MAE': 0.8883891312902364, 'Train RMSE': 1.9856265292985278, 'Train MAPE': 0.6411177728886893, 'Test MAE': 54.71177394387566, 'Test RMSE': 204.74553969343592, 'Test MAPE': 1121.0528235254353}\n",
      "Max week: 56, Test start week: 53\n",
      "X_train shape: (52, 19), X_test shape: (4, 19)\n",
      "Train start week: 1, Train end week: 52\n",
      "{'Train MAE': 0.0004505280342597801, 'Train RMSE': 0.0006877939286130147, 'Train MAPE': 0.0010777404764634373, 'Test MAE': 1.5422539765859256, 'Test RMSE': 3.0842418711347834, 'Test MAPE': 3.1471855786381937}\n",
      "Max week: 105, Test start week: 102\n",
      "X_train shape: (51712, 19), X_test shape: (2048, 19)\n",
      "Train start week: 1, Train end week: 101\n",
      "{'Train MAE': 0.5006898399800872, 'Train RMSE': 1.416808718312077, 'Train MAPE': 1.606823005013726, 'Test MAE': 61.52852410951232, 'Test RMSE': 1543.921555722969, 'Test MAPE': 329.2700268657384}\n",
      "Max week: 155, Test start week: 152\n",
      "X_train shape: (131219, 19), X_test shape: (3476, 19)\n",
      "Train start week: 1, Train end week: 151\n",
      "{'Train MAE': 41.75928192913746, 'Train RMSE': 121.5268643123856, 'Train MAPE': 261.4516513321242, 'Test MAE': 219.9091268966357, 'Test RMSE': 1231.9276729082237, 'Test MAPE': 4559.72837180019}\n",
      "Max week: 136, Test start week: 133\n",
      "X_train shape: (99132, 19), X_test shape: (3004, 19)\n",
      "Train start week: 1, Train end week: 132\n",
      "{'Train MAE': 18.89338109923092, 'Train RMSE': 55.98161834714868, 'Train MAPE': 70.01485324077817, 'Test MAE': 243.81258881511974, 'Test RMSE': 2401.9697921124684, 'Test MAPE': 3051.3291574053146}\n",
      "Max week: 105, Test start week: 102\n",
      "X_train shape: (3939, 19), X_test shape: (156, 19)\n",
      "Train start week: 1, Train end week: 101\n",
      "{'Train MAE': 0.7345247671673338, 'Train RMSE': 1.6035941039088082, 'Train MAPE': 0.01601394269870964, 'Test MAE': 283.46675826021686, 'Test RMSE': 1656.5983891481274, 'Test MAPE': 1535.6970826151394}\n",
      "Max week: 16, Test start week: 13\n",
      "X_train shape: (7032, 19), X_test shape: (2344, 19)\n",
      "Train start week: 1, Train end week: 12\n",
      "{'Train MAE': 0.29923130645469875, 'Train RMSE': 0.4707917087259409, 'Train MAPE': 0.801361835923321, 'Test MAE': 2697.043884926266, 'Test RMSE': 21007.842323351702, 'Test MAPE': 206820.3439211647}\n",
      "Max week: 16, Test start week: 13\n",
      "X_train shape: (996, 19), X_test shape: (332, 19)\n",
      "Train start week: 1, Train end week: 12\n",
      "{'Train MAE': 0.01439188362502067, 'Train RMSE': 0.02511408271778057, 'Train MAPE': 0.06859778578958897, 'Test MAE': 769.8812129434692, 'Test RMSE': 4631.101710437746, 'Test MAPE': 58518.424553470504}\n",
      "Max week: 16, Test start week: 13\n",
      "X_train shape: (1236, 19), X_test shape: (412, 19)\n",
      "Train start week: 1, Train end week: 12\n",
      "{'Train MAE': 0.07790824652195875, 'Train RMSE': 0.13513310307514614, 'Train MAPE': 0.09089484852851482, 'Test MAE': 6280.119479920245, 'Test RMSE': 22346.859617483016, 'Test MAPE': 404090.83350665215}\n"
     ]
    }
   ],
   "source": [
    "metrics_dict_list, results_df_list = main_call(model_data_list_engineered, test_weeks=4, train_window=None)"
   ]
  },
  {
   "cell_type": "markdown",
   "id": "21bac7c4-90e8-4305-84df-c205429d850b",
   "metadata": {
    "tags": []
   },
   "source": [
    "# Results"
   ]
  },
  {
   "cell_type": "code",
   "execution_count": 55,
   "id": "003b2208-e0f3-45e7-b0fe-587d8a9e16a5",
   "metadata": {
    "tags": []
   },
   "outputs": [
    {
     "data": {
      "text/html": [
       "<div>\n",
       "<style scoped>\n",
       "    .dataframe tbody tr th:only-of-type {\n",
       "        vertical-align: middle;\n",
       "    }\n",
       "\n",
       "    .dataframe tbody tr th {\n",
       "        vertical-align: top;\n",
       "    }\n",
       "\n",
       "    .dataframe thead th {\n",
       "        text-align: right;\n",
       "    }\n",
       "</style>\n",
       "<table border=\"1\" class=\"dataframe\">\n",
       "  <thead>\n",
       "    <tr style=\"text-align: right;\">\n",
       "      <th></th>\n",
       "      <th>org</th>\n",
       "      <th>item_code</th>\n",
       "      <th>actual_demand</th>\n",
       "      <th>predicted_demand</th>\n",
       "      <th>error</th>\n",
       "      <th>percentage_error</th>\n",
       "      <th>uom</th>\n",
       "    </tr>\n",
       "  </thead>\n",
       "  <tbody>\n",
       "    <tr>\n",
       "      <th>263</th>\n",
       "      <td>P01</td>\n",
       "      <td>00950404</td>\n",
       "      <td>0.0</td>\n",
       "      <td>0.0</td>\n",
       "      <td>0.0</td>\n",
       "      <td>0.0</td>\n",
       "      <td>M</td>\n",
       "    </tr>\n",
       "  </tbody>\n",
       "</table>\n",
       "</div>"
      ],
      "text/plain": [
       "     org item_code  actual_demand  predicted_demand  error  percentage_error  \\\n",
       "263  P01  00950404            0.0               0.0    0.0               0.0   \n",
       "\n",
       "    uom  \n",
       "263   M  "
      ]
     },
     "execution_count": 55,
     "metadata": {},
     "output_type": "execute_result"
    }
   ],
   "source": [
    "results_df_list[0].head(1)"
   ]
  },
  {
   "cell_type": "code",
   "execution_count": 56,
   "id": "1f0c13e8-c0f3-445d-afd6-e825a6caaa60",
   "metadata": {
    "tags": []
   },
   "outputs": [
    {
     "data": {
      "text/plain": [
       "77"
      ]
     },
     "execution_count": 56,
     "metadata": {},
     "output_type": "execute_result"
    }
   ],
   "source": [
    "results_df_list[0]['item_code'].nunique()"
   ]
  },
  {
   "cell_type": "code",
   "execution_count": 57,
   "id": "2433f100-79cc-4a87-adc9-54335d237974",
   "metadata": {},
   "outputs": [],
   "source": [
    "result_df_combined = pd.concat(results_df_list, axis=0)"
   ]
  },
  {
   "cell_type": "code",
   "execution_count": 58,
   "id": "382f10e5-b272-4a60-a50e-01915e225551",
   "metadata": {},
   "outputs": [
    {
     "name": "stdout",
     "output_type": "stream",
     "text": [
      "Results Exported\n"
     ]
    }
   ],
   "source": [
    "result_df_combined.to_csv(r'4_week_lead_time/XGBoost_Results_4.csv', index=False)\n",
    "print(\"Results Exported\")"
   ]
  },
  {
   "cell_type": "code",
   "execution_count": 59,
   "id": "095a8be4-6981-43b1-aa0a-aef02fa27b06",
   "metadata": {
    "tags": []
   },
   "outputs": [],
   "source": [
    "import pandas as pd\n",
    "\n",
    "def summarize_items_by_error(df):\n",
    "    \"\"\"\n",
    "    Groups items based on their average percentage error (in 5% increments) and aggregates their counts.\n",
    "\n",
    "    Args:\n",
    "    df (pd.DataFrame): DataFrame containing 'org', 'item_code', and 'percentage_error'.\n",
    "\n",
    "    Returns:\n",
    "    pd.DataFrame: Summarized DataFrame with item counts per error bucket.\n",
    "    \"\"\"\n",
    "    df = df.copy()\n",
    "\n",
    "    # Step 1: Compute mean percentage error at item level\n",
    "    avg_error_per_item = df.groupby([\"org\", \"item_code\"])[\"percentage_error\"].mean().reset_index()\n",
    "\n",
    "    # Step 2: Define percentage error bins (5% increments up to 50%, then 50%+)\n",
    "    bins = list(range(0, 55, 5)) + [float('inf')]  # [0,5,10,15,...,45,50,inf]\n",
    "    labels = [f\"{i}-{i+5}%\" for i in range(0, 50, 5)] + [\"50% and above\"]\n",
    "\n",
    "    # Step 3: Assign error bucket based on mean error per item\n",
    "    avg_error_per_item[\"pe_bucket\"] = pd.cut(\n",
    "        avg_error_per_item[\"percentage_error\"], bins=bins, labels=labels, right=False\n",
    "    )\n",
    "\n",
    "    # Step 4: Count unique items per error bucket\n",
    "    summary_df = avg_error_per_item.groupby([\"org\", \"pe_bucket\"])[\"item_code\"].nunique().reset_index()\n",
    "    summary_df.rename(columns={\"item_code\": \"no_unique_item\"}, inplace=True)\n",
    "\n",
    "    # Step 5: Get total unique items per org\n",
    "    total_items = avg_error_per_item.groupby(\"org\")[\"item_code\"].nunique().reset_index()\n",
    "    total_items.rename(columns={\"item_code\": \"total_item\"}, inplace=True)\n",
    "\n",
    "    # Step 6: Merge total item count\n",
    "    summary_df = summary_df.merge(total_items, on=\"org\", how=\"left\")\n",
    "\n",
    "    # Step 7: Calculate percentage of items in each bucket\n",
    "    summary_df[\"percent_item\"] = round((summary_df[\"no_unique_item\"] / summary_df[\"total_item\"]) * 100, 1)\n",
    "\n",
    "    # Step 8: Compute cumulative sum of items\n",
    "    summary_df[\"cumulative_item\"] = summary_df.groupby(\"org\")[\"no_unique_item\"].cumsum()\n",
    "    summary_df[\"cumulative_percent\"] = round((summary_df['cumulative_item']/summary_df['total_item'])*100, 1)\n",
    "\n",
    "    return summary_df"
   ]
  },
  {
   "cell_type": "code",
   "execution_count": 60,
   "id": "c9833376-14e7-4988-ba67-ae3e58ad5b44",
   "metadata": {
    "tags": []
   },
   "outputs": [],
   "source": [
    "final_summary = pd.concat([summarize_items_by_error(df) for df in results_df_list], ignore_index=True)"
   ]
  },
  {
   "cell_type": "code",
   "execution_count": 61,
   "id": "0f428a8d-0e1e-4459-aa89-4e7c59df9e9b",
   "metadata": {
    "tags": []
   },
   "outputs": [],
   "source": [
    "final_summary.to_csv('4_week_lead_time/final_summary_4.csv', index=False)"
   ]
  },
  {
   "cell_type": "code",
   "execution_count": 62,
   "id": "b936024e-0cd5-462f-8c1b-50889734bf69",
   "metadata": {},
   "outputs": [
    {
     "data": {
      "text/html": [
       "<div>\n",
       "<style scoped>\n",
       "    .dataframe tbody tr th:only-of-type {\n",
       "        vertical-align: middle;\n",
       "    }\n",
       "\n",
       "    .dataframe tbody tr th {\n",
       "        vertical-align: top;\n",
       "    }\n",
       "\n",
       "    .dataframe thead th {\n",
       "        text-align: right;\n",
       "    }\n",
       "</style>\n",
       "<table border=\"1\" class=\"dataframe\">\n",
       "  <thead>\n",
       "    <tr style=\"text-align: right;\">\n",
       "      <th></th>\n",
       "      <th>org</th>\n",
       "      <th>pe_bucket</th>\n",
       "      <th>no_unique_item</th>\n",
       "      <th>total_item</th>\n",
       "      <th>percent_item</th>\n",
       "      <th>cumulative_item</th>\n",
       "      <th>cumulative_percent</th>\n",
       "    </tr>\n",
       "  </thead>\n",
       "  <tbody>\n",
       "    <tr>\n",
       "      <th>0</th>\n",
       "      <td>P01</td>\n",
       "      <td>0-5%</td>\n",
       "      <td>72</td>\n",
       "      <td>77</td>\n",
       "      <td>93.5</td>\n",
       "      <td>72</td>\n",
       "      <td>93.5</td>\n",
       "    </tr>\n",
       "    <tr>\n",
       "      <th>1</th>\n",
       "      <td>P01</td>\n",
       "      <td>5-10%</td>\n",
       "      <td>1</td>\n",
       "      <td>77</td>\n",
       "      <td>1.3</td>\n",
       "      <td>73</td>\n",
       "      <td>94.8</td>\n",
       "    </tr>\n",
       "    <tr>\n",
       "      <th>2</th>\n",
       "      <td>P01</td>\n",
       "      <td>10-15%</td>\n",
       "      <td>0</td>\n",
       "      <td>77</td>\n",
       "      <td>0.0</td>\n",
       "      <td>73</td>\n",
       "      <td>94.8</td>\n",
       "    </tr>\n",
       "    <tr>\n",
       "      <th>3</th>\n",
       "      <td>P01</td>\n",
       "      <td>15-20%</td>\n",
       "      <td>1</td>\n",
       "      <td>77</td>\n",
       "      <td>1.3</td>\n",
       "      <td>74</td>\n",
       "      <td>96.1</td>\n",
       "    </tr>\n",
       "    <tr>\n",
       "      <th>4</th>\n",
       "      <td>P01</td>\n",
       "      <td>20-25%</td>\n",
       "      <td>0</td>\n",
       "      <td>77</td>\n",
       "      <td>0.0</td>\n",
       "      <td>74</td>\n",
       "      <td>96.1</td>\n",
       "    </tr>\n",
       "    <tr>\n",
       "      <th>5</th>\n",
       "      <td>P01</td>\n",
       "      <td>25-30%</td>\n",
       "      <td>0</td>\n",
       "      <td>77</td>\n",
       "      <td>0.0</td>\n",
       "      <td>74</td>\n",
       "      <td>96.1</td>\n",
       "    </tr>\n",
       "    <tr>\n",
       "      <th>6</th>\n",
       "      <td>P01</td>\n",
       "      <td>30-35%</td>\n",
       "      <td>0</td>\n",
       "      <td>77</td>\n",
       "      <td>0.0</td>\n",
       "      <td>74</td>\n",
       "      <td>96.1</td>\n",
       "    </tr>\n",
       "    <tr>\n",
       "      <th>7</th>\n",
       "      <td>P01</td>\n",
       "      <td>35-40%</td>\n",
       "      <td>0</td>\n",
       "      <td>77</td>\n",
       "      <td>0.0</td>\n",
       "      <td>74</td>\n",
       "      <td>96.1</td>\n",
       "    </tr>\n",
       "    <tr>\n",
       "      <th>8</th>\n",
       "      <td>P01</td>\n",
       "      <td>40-45%</td>\n",
       "      <td>0</td>\n",
       "      <td>77</td>\n",
       "      <td>0.0</td>\n",
       "      <td>74</td>\n",
       "      <td>96.1</td>\n",
       "    </tr>\n",
       "    <tr>\n",
       "      <th>9</th>\n",
       "      <td>P01</td>\n",
       "      <td>45-50%</td>\n",
       "      <td>0</td>\n",
       "      <td>77</td>\n",
       "      <td>0.0</td>\n",
       "      <td>74</td>\n",
       "      <td>96.1</td>\n",
       "    </tr>\n",
       "    <tr>\n",
       "      <th>10</th>\n",
       "      <td>P01</td>\n",
       "      <td>50% and above</td>\n",
       "      <td>3</td>\n",
       "      <td>77</td>\n",
       "      <td>3.9</td>\n",
       "      <td>77</td>\n",
       "      <td>100.0</td>\n",
       "    </tr>\n",
       "  </tbody>\n",
       "</table>\n",
       "</div>"
      ],
      "text/plain": [
       "    org      pe_bucket  no_unique_item  total_item  percent_item  \\\n",
       "0   P01           0-5%              72          77          93.5   \n",
       "1   P01          5-10%               1          77           1.3   \n",
       "2   P01         10-15%               0          77           0.0   \n",
       "3   P01         15-20%               1          77           1.3   \n",
       "4   P01         20-25%               0          77           0.0   \n",
       "5   P01         25-30%               0          77           0.0   \n",
       "6   P01         30-35%               0          77           0.0   \n",
       "7   P01         35-40%               0          77           0.0   \n",
       "8   P01         40-45%               0          77           0.0   \n",
       "9   P01         45-50%               0          77           0.0   \n",
       "10  P01  50% and above               3          77           3.9   \n",
       "\n",
       "    cumulative_item  cumulative_percent  \n",
       "0                72                93.5  \n",
       "1                73                94.8  \n",
       "2                73                94.8  \n",
       "3                74                96.1  \n",
       "4                74                96.1  \n",
       "5                74                96.1  \n",
       "6                74                96.1  \n",
       "7                74                96.1  \n",
       "8                74                96.1  \n",
       "9                74                96.1  \n",
       "10               77               100.0  "
      ]
     },
     "execution_count": 62,
     "metadata": {},
     "output_type": "execute_result"
    }
   ],
   "source": [
    "final_summary[final_summary[\"org\"]==\"P01\"]"
   ]
  },
  {
   "cell_type": "markdown",
   "id": "47aeacc6-9e94-4c94-aa92-a2b85098d84b",
   "metadata": {},
   "source": [
    "### Roll up error metrics at item level"
   ]
  },
  {
   "cell_type": "code",
   "execution_count": 63,
   "id": "91fa4022-421e-487a-85ad-4dfd3037439d",
   "metadata": {},
   "outputs": [],
   "source": [
    "final_summary_rolled = result_df_combined.copy()\n",
    "final_summary_rolled['org'] = \"DUMMY\"\n",
    "final_summary_rolledup = summarize_items_by_error(final_summary_rolled)\n",
    "final_summary_rolledup.drop(columns=['org'], inplace=True)"
   ]
  },
  {
   "cell_type": "code",
   "execution_count": 64,
   "id": "299b1cf3-e766-46df-a85a-ed23e18e973a",
   "metadata": {
    "tags": []
   },
   "outputs": [],
   "source": [
    "final_summary_rolledup.to_csv(r'4_week_lead_time/final_summary_rolledup_4.csv', index=False)"
   ]
  },
  {
   "cell_type": "code",
   "execution_count": 65,
   "id": "44eaabbe-aadb-40b9-a3b0-58e26c52ed78",
   "metadata": {
    "tags": []
   },
   "outputs": [
    {
     "data": {
      "text/html": [
       "<div>\n",
       "<style scoped>\n",
       "    .dataframe tbody tr th:only-of-type {\n",
       "        vertical-align: middle;\n",
       "    }\n",
       "\n",
       "    .dataframe tbody tr th {\n",
       "        vertical-align: top;\n",
       "    }\n",
       "\n",
       "    .dataframe thead th {\n",
       "        text-align: right;\n",
       "    }\n",
       "</style>\n",
       "<table border=\"1\" class=\"dataframe\">\n",
       "  <thead>\n",
       "    <tr style=\"text-align: right;\">\n",
       "      <th></th>\n",
       "      <th>pe_bucket</th>\n",
       "      <th>no_unique_item</th>\n",
       "      <th>total_item</th>\n",
       "      <th>percent_item</th>\n",
       "      <th>cumulative_item</th>\n",
       "      <th>cumulative_percent</th>\n",
       "    </tr>\n",
       "  </thead>\n",
       "  <tbody>\n",
       "    <tr>\n",
       "      <th>0</th>\n",
       "      <td>0-5%</td>\n",
       "      <td>3470</td>\n",
       "      <td>5396</td>\n",
       "      <td>64.3</td>\n",
       "      <td>3470</td>\n",
       "      <td>64.3</td>\n",
       "    </tr>\n",
       "    <tr>\n",
       "      <th>1</th>\n",
       "      <td>5-10%</td>\n",
       "      <td>337</td>\n",
       "      <td>5396</td>\n",
       "      <td>6.2</td>\n",
       "      <td>3807</td>\n",
       "      <td>70.6</td>\n",
       "    </tr>\n",
       "    <tr>\n",
       "      <th>2</th>\n",
       "      <td>10-15%</td>\n",
       "      <td>194</td>\n",
       "      <td>5396</td>\n",
       "      <td>3.6</td>\n",
       "      <td>4001</td>\n",
       "      <td>74.1</td>\n",
       "    </tr>\n",
       "    <tr>\n",
       "      <th>3</th>\n",
       "      <td>15-20%</td>\n",
       "      <td>74</td>\n",
       "      <td>5396</td>\n",
       "      <td>1.4</td>\n",
       "      <td>4075</td>\n",
       "      <td>75.5</td>\n",
       "    </tr>\n",
       "    <tr>\n",
       "      <th>4</th>\n",
       "      <td>20-25%</td>\n",
       "      <td>60</td>\n",
       "      <td>5396</td>\n",
       "      <td>1.1</td>\n",
       "      <td>4135</td>\n",
       "      <td>76.6</td>\n",
       "    </tr>\n",
       "    <tr>\n",
       "      <th>5</th>\n",
       "      <td>25-30%</td>\n",
       "      <td>55</td>\n",
       "      <td>5396</td>\n",
       "      <td>1.0</td>\n",
       "      <td>4190</td>\n",
       "      <td>77.7</td>\n",
       "    </tr>\n",
       "    <tr>\n",
       "      <th>6</th>\n",
       "      <td>30-35%</td>\n",
       "      <td>22</td>\n",
       "      <td>5396</td>\n",
       "      <td>0.4</td>\n",
       "      <td>4212</td>\n",
       "      <td>78.1</td>\n",
       "    </tr>\n",
       "    <tr>\n",
       "      <th>7</th>\n",
       "      <td>35-40%</td>\n",
       "      <td>24</td>\n",
       "      <td>5396</td>\n",
       "      <td>0.4</td>\n",
       "      <td>4236</td>\n",
       "      <td>78.5</td>\n",
       "    </tr>\n",
       "    <tr>\n",
       "      <th>8</th>\n",
       "      <td>40-45%</td>\n",
       "      <td>11</td>\n",
       "      <td>5396</td>\n",
       "      <td>0.2</td>\n",
       "      <td>4247</td>\n",
       "      <td>78.7</td>\n",
       "    </tr>\n",
       "    <tr>\n",
       "      <th>9</th>\n",
       "      <td>45-50%</td>\n",
       "      <td>12</td>\n",
       "      <td>5396</td>\n",
       "      <td>0.2</td>\n",
       "      <td>4259</td>\n",
       "      <td>78.9</td>\n",
       "    </tr>\n",
       "    <tr>\n",
       "      <th>10</th>\n",
       "      <td>50% and above</td>\n",
       "      <td>1137</td>\n",
       "      <td>5396</td>\n",
       "      <td>21.1</td>\n",
       "      <td>5396</td>\n",
       "      <td>100.0</td>\n",
       "    </tr>\n",
       "  </tbody>\n",
       "</table>\n",
       "</div>"
      ],
      "text/plain": [
       "        pe_bucket  no_unique_item  total_item  percent_item  cumulative_item  \\\n",
       "0            0-5%            3470        5396          64.3             3470   \n",
       "1           5-10%             337        5396           6.2             3807   \n",
       "2          10-15%             194        5396           3.6             4001   \n",
       "3          15-20%              74        5396           1.4             4075   \n",
       "4          20-25%              60        5396           1.1             4135   \n",
       "5          25-30%              55        5396           1.0             4190   \n",
       "6          30-35%              22        5396           0.4             4212   \n",
       "7          35-40%              24        5396           0.4             4236   \n",
       "8          40-45%              11        5396           0.2             4247   \n",
       "9          45-50%              12        5396           0.2             4259   \n",
       "10  50% and above            1137        5396          21.1             5396   \n",
       "\n",
       "    cumulative_percent  \n",
       "0                 64.3  \n",
       "1                 70.6  \n",
       "2                 74.1  \n",
       "3                 75.5  \n",
       "4                 76.6  \n",
       "5                 77.7  \n",
       "6                 78.1  \n",
       "7                 78.5  \n",
       "8                 78.7  \n",
       "9                 78.9  \n",
       "10               100.0  "
      ]
     },
     "execution_count": 65,
     "metadata": {},
     "output_type": "execute_result"
    }
   ],
   "source": [
    "final_summary_rolledup"
   ]
  },
  {
   "cell_type": "code",
   "execution_count": 66,
   "id": "4ca4155f-1cbd-4494-ae36-f2cd31b30c0d",
   "metadata": {
    "tags": []
   },
   "outputs": [
    {
     "name": "stdout",
     "output_type": "stream",
     "text": [
      "+---------------+----------------+------------+--------------+-----------------+--------------------+\n",
      "|   pe_bucket   | no_unique_item | total_item | percent_item | cumulative_item | cumulative_percent |\n",
      "+---------------+----------------+------------+--------------+-----------------+--------------------+\n",
      "|      0-5%     |      3470      |    5396    |     64.3     |       3470      |        64.3        |\n",
      "|     5-10%     |      337       |    5396    |     6.2      |       3807      |        70.6        |\n",
      "|     10-15%    |      194       |    5396    |     3.6      |       4001      |        74.1        |\n",
      "|     15-20%    |       74       |    5396    |     1.4      |       4075      |        75.5        |\n",
      "|     20-25%    |       60       |    5396    |     1.1      |       4135      |        76.6        |\n",
      "|     25-30%    |       55       |    5396    |     1.0      |       4190      |        77.7        |\n",
      "|     30-35%    |       22       |    5396    |     0.4      |       4212      |        78.1        |\n",
      "|     35-40%    |       24       |    5396    |     0.4      |       4236      |        78.5        |\n",
      "|     40-45%    |       11       |    5396    |     0.2      |       4247      |        78.7        |\n",
      "|     45-50%    |       12       |    5396    |     0.2      |       4259      |        78.9        |\n",
      "| 50% and above |      1137      |    5396    |     21.1     |       5396      |       100.0        |\n",
      "+---------------+----------------+------------+--------------+-----------------+--------------------+\n"
     ]
    }
   ],
   "source": [
    "# Create a PrettyTable instance\n",
    "table = PrettyTable()\n",
    "table.field_names = final_summary_rolledup.columns.tolist()  # Set column names\n",
    "\n",
    "# Add rows from the DataFrame\n",
    "for _, row in final_summary_rolledup.iterrows():\n",
    "    table.add_row(row.tolist())\n",
    "\n",
    "# Print the table\n",
    "print(table)\n"
   ]
  }
 ],
 "metadata": {
  "kernelspec": {
   "display_name": "Python 3 (ipykernel)",
   "language": "python",
   "name": "python3"
  },
  "language_info": {
   "codemirror_mode": {
    "name": "ipython",
    "version": 3
   },
   "file_extension": ".py",
   "mimetype": "text/x-python",
   "name": "python",
   "nbconvert_exporter": "python",
   "pygments_lexer": "ipython3",
   "version": "3.11.9"
  }
 },
 "nbformat": 4,
 "nbformat_minor": 5
}
